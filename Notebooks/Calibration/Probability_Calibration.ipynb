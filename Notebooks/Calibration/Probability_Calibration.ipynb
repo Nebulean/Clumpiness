{
 "cells": [
  {
   "cell_type": "code",
   "execution_count": 1,
   "metadata": {},
   "outputs": [],
   "source": [
    "%matplotlib inline"
   ]
  },
  {
   "cell_type": "code",
   "execution_count": 2,
   "metadata": {},
   "outputs": [
    {
     "name": "stderr",
     "output_type": "stream",
     "text": [
      "Using TensorFlow backend.\n"
     ]
    }
   ],
   "source": [
    "import pandas as pd\n",
    "import sys\n",
    "sys.path.append('../')\n",
    "# Scientific \n",
    "\n",
    "import numpy as np\n",
    "import random\n",
    "\n",
    "import Train\n",
    "from tqdm import tqdm\n",
    "import matplotlib.pyplot as plt\n",
    "\n",
    "# Machine learning\n",
    "\n",
    "import xgboost as xgb\n",
    "from sklearn.model_selection import train_test_split\n",
    "from sklearn.metrics import log_loss, accuracy_score, classification_report\n",
    "from keras.utils import to_categorical\n",
    "\n",
    "import temperature_scaling\n",
    "from scipy.special import softmax"
   ]
  },
  {
   "cell_type": "code",
   "execution_count": 4,
   "metadata": {},
   "outputs": [
    {
     "name": "stderr",
     "output_type": "stream",
     "text": [
      "../Train.py:95: RuntimeWarning: divide by zero encountered in log10\n",
      "  self.df['running_var'] = np.log10(np.abs(self.df['running_var']))\n",
      "../Train.py:64: SettingWithCopyWarning: \n",
      "A value is trying to be set on a copy of a slice from a DataFrame.\n",
      "Try using .loc[row_indexer,col_indexer] = value instead\n",
      "\n",
      "See the caveats in the documentation: http://pandas.pydata.org/pandas-docs/stable/indexing.html#indexing-view-versus-copy\n",
      "  self.df['KIC'] = self.df['KIC'].astype(int)\n"
     ]
    },
    {
     "name": "stdout",
     "output_type": "stream",
     "text": [
      "['KIC', 'numax', 'var', 'zc', 'hoc', 'abs_k_mag']\n"
     ]
    },
    {
     "name": "stderr",
     "output_type": "stream",
     "text": [
      "/usr/local/lib/python3.6/dist-packages/pandas/core/indexing.py:543: SettingWithCopyWarning: \n",
      "A value is trying to be set on a copy of a slice from a DataFrame.\n",
      "Try using .loc[row_indexer,col_indexer] = value instead\n",
      "\n",
      "See the caveats in the documentation: http://pandas.pydata.org/pandas-docs/stable/indexing.html#indexing-view-versus-copy\n",
      "  self.obj[item] = s\n",
      "/usr/local/lib/python3.6/dist-packages/xgboost/core.py:587: FutureWarning: Series.base is deprecated and will be removed in a future version\n",
      "  if getattr(data, 'base', None) is not None and \\\n"
     ]
    }
   ],
   "source": [
    "# Read in data wrt kic and fill etc.\n",
    "NDAYS = -1\n",
    "dataset = 'KIC'\n",
    "accounting_for_TESS = False #True\n",
    "df = pd.read_csv('../Colours_New_Gaps_output_data_noise_'+str(dataset)+'_'+str(NDAYS)+'_APOKASC.csv')\n",
    "bad_kics = [10403036, 9846355, 5004660, 4936438, 6450613, 10597648, 5395942]\n",
    "df = df[~df.KIC.isin(bad_kics)] \n",
    "\n",
    "# Set up training class\n",
    "CLP = Train.Train(df, dataset, NDAYS)\n",
    "# Preprocess\n",
    "CLP.preprocess_data()\n",
    "# Set up data for training\n",
    "CLP.setup_for_training(features=['KIC', 'numax', 'var', 'zc', 'hoc', 'abs_k_mag'])\n",
    "\n",
    "# Extract the train and valid (used for validation) dataframes from the train_df\n",
    "train_features, valid_features, y_train, y_valid = CLP.X_train.drop(['KIC', 'numax'], axis=1), CLP.X_test.drop(['KIC', 'numax'], axis=1), CLP.Y_train, CLP.Y_test"
   ]
  },
  {
   "cell_type": "code",
   "execution_count": 5,
   "metadata": {},
   "outputs": [],
   "source": [
    "params = {\n",
    "    'n_estimators': 696,\n",
    "    'eta': 0.35,\n",
    "    'max_depth': 10,\n",
    "    'min_child_weight': 5.0,\n",
    "    'subsample': 0.75,\n",
    "    'gamma': 7.5,\n",
    "    'colsample_bytree': 1.0,\n",
    "    'eval_metric': 'mlogloss',\n",
    "    'objective': 'multi:softprob',\n",
    "    'num_class': 5,\n",
    "    'nthread': 4,\n",
    "    'silent': 1,\n",
    "    'seed': 0\n",
    "}"
   ]
  },
  {
   "cell_type": "code",
   "execution_count": 6,
   "metadata": {},
   "outputs": [
    {
     "name": "stdout",
     "output_type": "stream",
     "text": [
      "Score 0.2605693551476994\n",
      "Accuracy 0.9022491349480969\n",
      "Full accuracy 0.9178200692041523\n",
      "              precision    recall  f1-score   support\n",
      "\n",
      "           0       0.95      0.88      0.91       152\n",
      "           1       0.96      0.95      0.96       159\n",
      "           2       0.90      0.79      0.84       736\n",
      "           3       0.82      0.95      0.88       727\n",
      "           4       0.99      0.98      0.99       538\n",
      "\n",
      "   micro avg       0.90      0.90      0.90      2312\n",
      "   macro avg       0.93      0.91      0.92      2312\n",
      "weighted avg       0.91      0.90      0.90      2312\n",
      "\n",
      "              precision    recall  f1-score   support\n",
      "\n",
      "           0       0.96      0.86      0.91      1047\n",
      "           1       0.82      0.95      0.88       727\n",
      "           2       0.99      0.98      0.99       538\n",
      "\n",
      "   micro avg       0.92      0.92      0.92      2312\n",
      "   macro avg       0.93      0.93      0.93      2312\n",
      "weighted avg       0.92      0.92      0.92      2312\n",
      "\n"
     ]
    }
   ],
   "source": [
    "num_round = int(params['n_estimators'])\n",
    "\n",
    "dtrain = CLP.xg_train #xgb.DMatrix(train_features, label=y_train)\n",
    "dvalid = CLP.xg_test #xgb.DMatrix(valid_features, label=y_valid)\n",
    "\n",
    "gbm_model = xgb.train(params, dtrain, num_round,\n",
    "                      verbose_eval=True)\n",
    "predictions = gbm_model.predict(dvalid,\n",
    "                                ntree_limit=gbm_model.best_iteration)\n",
    "#print(predictions)\n",
    "loss = log_loss(y_valid, predictions)\n",
    "full_valid = CLP._create_full_class(y_valid)\n",
    "full_pred = CLP._create_full_class(np.argmax(predictions, axis=1))\n",
    "# TODO: Add the importance for the selected features\n",
    "print(\"Score {0}\".format(loss))\n",
    "print(\"Accuracy {}\".format(accuracy_score(y_valid, np.argmax(predictions, axis=1))))\n",
    "print(\"Full accuracy {}\".format(accuracy_score(full_valid, full_pred)))\n",
    "print(classification_report(y_valid, np.argmax(predictions, axis=1)))\n",
    "print(classification_report(full_valid, full_pred))"
   ]
  },
  {
   "cell_type": "code",
   "execution_count": 8,
   "metadata": {},
   "outputs": [],
   "source": [
    "new_model = temperature_scaling.ModelwithTemperature(gbm_model)"
   ]
  },
  {
   "cell_type": "code",
   "execution_count": 9,
   "metadata": {},
   "outputs": [],
   "source": [
    "valid_labels = to_categorical(y_valid.values, num_classes=5)\n",
    "#print(valid_labels)"
   ]
  },
  {
   "cell_type": "code",
   "execution_count": 10,
   "metadata": {},
   "outputs": [
    {
     "name": "stdout",
     "output_type": "stream",
     "text": [
      "[1 4 3 ... 4 3 2] [1 4 3 ... 4 2 2]\n",
      "Before temperature scaling - NLL: -11.845077145058392, ECE: 0.018807533522584418\n",
      "      fun: 0.2595318972024099\n",
      " hess_inv: array([[1.96828791]])\n",
      "      jac: array([8.52718949e-06])\n",
      "  message: 'Optimization terminated successfully.'\n",
      "     nfev: 15\n",
      "      nit: 4\n",
      "     njev: 5\n",
      "   status: 0\n",
      "  success: True\n",
      "        x: array([0.94067001])\n",
      "Optimal Temperature: [0.94067003]\n",
      "[1 4 3 ... 4 3 2] [1 4 3 ... 4 2 2]\n",
      "After temperature scaling - NLL: -12.592170550058855, ECE: 0.013870689989508609\n"
     ]
    },
    {
     "data": {
      "text/plain": [
       "<temperature_scaling.ModelwithTemperature at 0x2b22e8164a58>"
      ]
     },
     "execution_count": 10,
     "metadata": {},
     "output_type": "execute_result"
    }
   ],
   "source": [
    "new_model.set_temperature(dvalid, valid_labels)"
   ]
  },
  {
   "cell_type": "code",
   "execution_count": 11,
   "metadata": {},
   "outputs": [],
   "source": [
    "new_predictions = softmax(new_model.predict(dvalid), axis=1)"
   ]
  },
  {
   "cell_type": "code",
   "execution_count": 12,
   "metadata": {},
   "outputs": [
    {
     "name": "stdout",
     "output_type": "stream",
     "text": [
      "(2312, 3)\n"
     ]
    }
   ],
   "source": [
    "full_preds = np.c_[new_predictions[:,:3].sum(axis=1), new_predictions[:,3:]]\n",
    "print(np.shape(full_preds))"
   ]
  },
  {
   "cell_type": "code",
   "execution_count": 13,
   "metadata": {},
   "outputs": [
    {
     "name": "stdout",
     "output_type": "stream",
     "text": [
      "Score 0.25953189720522846\n",
      "Accuracy 0.902681660899654\n",
      "Full accuracy 0.9182525951557093\n",
      "              precision    recall  f1-score   support\n",
      "\n",
      "           0       0.95      0.88      0.91       152\n",
      "           1       0.96      0.95      0.96       159\n",
      "           2       0.90      0.79      0.84       736\n",
      "           3       0.82      0.95      0.88       727\n",
      "           4       0.99      0.98      0.99       538\n",
      "\n",
      "   micro avg       0.90      0.90      0.90      2312\n",
      "   macro avg       0.93      0.91      0.92      2312\n",
      "weighted avg       0.91      0.90      0.90      2312\n",
      "\n",
      "              precision    recall  f1-score   support\n",
      "\n",
      "           0       0.96      0.86      0.91      1047\n",
      "           1       0.82      0.95      0.88       727\n",
      "           2       0.99      0.98      0.99       538\n",
      "\n",
      "   micro avg       0.92      0.92      0.92      2312\n",
      "   macro avg       0.93      0.93      0.93      2312\n",
      "weighted avg       0.92      0.92      0.92      2312\n",
      "\n"
     ]
    }
   ],
   "source": [
    "#print(predictions)\n",
    "loss = log_loss(y_valid, new_predictions)\n",
    "full_valid = CLP._create_full_class(y_valid)\n",
    "full_pred = CLP._create_full_class(np.argmax(new_predictions, axis=1))\n",
    "# TODO: Add the importance for the selected features\n",
    "print(\"Score {0}\".format(loss))\n",
    "print(\"Accuracy {}\".format(accuracy_score(y_valid, np.argmax(new_predictions, axis=1))))\n",
    "print(\"Full accuracy {}\".format(accuracy_score(full_valid, full_pred)))\n",
    "print(classification_report(y_valid, np.argmax(new_predictions, axis=1)))\n",
    "print(classification_report(full_valid, full_pred))"
   ]
  },
  {
   "cell_type": "code",
   "execution_count": 14,
   "metadata": {},
   "outputs": [
    {
     "data": {
      "text/plain": [
       "<matplotlib.collections.PathCollection at 0x2b22e8884630>"
      ]
     },
     "execution_count": 14,
     "metadata": {},
     "output_type": "execute_result"
    },
    {
     "data": {
      "image/png": "[encoded data removed]",
      "text/plain": [
       "<Figure size 432x288 with 1 Axes>"
      ]
     },
     "metadata": {
      "needs_background": "light"
     },
     "output_type": "display_data"
    }
   ],
   "source": [
    "uncertainty = -1*np.sum(new_predictions * np.log(new_predictions), axis=1)\n",
    "new_unc = -1 * np.sum(full_preds * np.log(full_preds), axis=1)\n",
    "plt.scatter(np.max(new_predictions, axis=1), uncertainty, s=3)\n",
    "plt.scatter(np.max(full_preds, axis=1), new_unc, s=3)"
   ]
  },
  {
   "cell_type": "code",
   "execution_count": 15,
   "metadata": {},
   "outputs": [],
   "source": [
    "def make_model_diagrams(outputs, labels, n_bins=10):\n",
    "    \"\"\"\n",
    "    outputs - a torch tensor (size n x num_classes) with the outputs from the final linear layer\n",
    "    - NOT the softmaxes\n",
    "    labels - a torch tensor (size n) with the labels\n",
    "    \"\"\"\n",
    "    softmaxes = softmax(outputs, axis=1)\n",
    "    confidences, predictions = np.max(softmaxes, axis=1), np.argmax(softmaxes, axis=1)\n",
    "    #labels = to_categorical(labels.values)\n",
    "    accuracies = (predictions == labels.values) * 1    \n",
    "    #print(accuracies)\n",
    "    # Reliability diagram\n",
    "    bins = np.linspace(0, 1., n_bins + 1)\n",
    "    #bins[-1] = 1.0001\n",
    "    width = bins[1] - bins[0]\n",
    "    #bin_indices = [confidences.ge(bin_lower) * confidences.lt(bin_upper) for bin_lower, bin_upper in zip(bins[:-1], bins[1:])]\n",
    "    bin_indices = [((confidences > bin_lower) & (confidences < bin_upper)) for bin_lower, bin_upper in zip(bins[:-1], bins[1:])]\n",
    "    label_bins = [labels.values[bin_index] for bin_index in bin_indices]\n",
    "    bin_corrects = np.array([np.mean(accuracies[bin_index]) for bin_index in bin_indices])\n",
    "    bin_scores = np.array([np.mean(confidences[bin_index]) for bin_index in bin_indices])\n",
    "    #print(label_bins)\n",
    "    #print(bin_corrects)\n",
    "    #print(bins[:-1][np.nanargmax(bin_corrects)])\n",
    "    confs = plt.bar(bins[:-1], bin_corrects, width=width, edgecolor='k', align='edge')\n",
    "    gaps = plt.bar(bins[:-1], (bin_scores - bin_corrects), bottom=bin_corrects, align='edge', color=[1, 0.7, 0.7], alpha=0.5, width=width, hatch='//', edgecolor='r')\n",
    "    plt.plot([0, 1], [0, 1], '--', color='gray')\n",
    "    #plt.legend([confs, gaps], ['Outputs', 'Gap'], loc='best', fontsize='small')\n",
    "    plt.xlim(0, 1)\n",
    "    # Clean up\n",
    "    plt.ylabel('Accuracy', fontsize=18)\n",
    "    plt.xlabel('Confidence', fontsize=18)\n",
    "    return bins[:-1], label_bins, bin_corrects"
   ]
  },
  {
   "cell_type": "code",
   "execution_count": 21,
   "metadata": {},
   "outputs": [
    {
     "data": {
      "image/png": "[encoded data removed]",
      "text/plain": [
       "<Figure size 576x432 with 1 Axes>"
      ]
     },
     "metadata": {
      "needs_background": "light"
     },
     "output_type": "display_data"
    },
    {
     "name": "stderr",
     "output_type": "stream",
     "text": [
      "/usr/local/lib/python3.6/dist-packages/numpy/core/fromnumeric.py:2920: RuntimeWarning: Mean of empty slice.\n",
      "  out=out, **kwargs)\n",
      "/usr/local/lib/python3.6/dist-packages/numpy/core/_methods.py:85: RuntimeWarning: invalid value encountered in double_scalars\n",
      "  ret = ret.dtype.type(ret / rcount)\n"
     ]
    },
    {
     "data": {
      "image/png": "[encoded data removed]",
      "text/plain": [
       "<Figure size 432x288 with 1 Axes>"
      ]
     },
     "metadata": {
      "needs_background": "light"
     },
     "output_type": "display_data"
    }
   ],
   "source": [
    "fig = plt.figure(figsize=(8, 6))\n",
    "bins, labs, corr = make_model_diagrams(gbm_model.predict(dvalid, output_margin=True), y_valid, n_bins=10)\n",
    "plt.savefig('/home/kuszlewicz/Dropbox/Reliability_plot.pdf')\n",
    "plt.show()\n",
    "bins2, labs2, corr2 = make_model_diagrams(new_model.predict(dvalid), y_valid, n_bins=10)"
   ]
  },
  {
   "cell_type": "code",
   "execution_count": 49,
   "metadata": {},
   "outputs": [
    {
     "data": {
      "text/plain": [
       "[(nan, 0.0, array([], dtype=int64)),\n",
       " (nan, 0.04, array([], dtype=int64)),\n",
       " (nan, 0.08, array([], dtype=int64)),\n",
       " (nan, 0.12, array([], dtype=int64)),\n",
       " (nan, 0.16, array([], dtype=int64)),\n",
       " (nan, 0.2, array([], dtype=int64)),\n",
       " (nan, 0.24, array([], dtype=int64)),\n",
       " (1.0, 0.28, array([4])),\n",
       " (1.0, 0.32, array([4, 4, 4])),\n",
       " (0.6666666666666666, 0.36, array([4, 0, 4])),\n",
       " (0.5, 0.4, array([4, 2, 4, 4])),\n",
       " (0.5333333333333333,\n",
       "  0.44,\n",
       "  array([4, 0, 0, 3, 4, 2, 0, 2, 4, 2, 2, 4, 2, 4, 2])),\n",
       " (0.45454545454545453,\n",
       "  0.48,\n",
       "  array([3, 2, 2, 2, 4, 4, 2, 2, 2, 3, 2, 0, 2, 3, 2, 2, 2, 3, 2, 3, 2, 4,\n",
       "         2, 3, 3, 2, 1, 2, 2, 3, 2, 3, 3, 3, 3, 3, 3, 0, 2, 3, 2, 2, 0, 2,\n",
       "         0, 3, 2, 2, 2, 2, 3, 0, 2, 2, 2, 3, 2, 3, 2, 2, 3, 3, 3, 3, 3, 4,\n",
       "         3, 2, 3, 3, 0, 0, 2, 1, 2, 3, 3, 2, 2, 3, 3, 2, 4, 3, 3, 2, 3, 2,\n",
       "         0, 2, 2, 2, 3, 4, 2, 2, 3, 2, 3, 3, 3, 3, 3, 0, 2, 3, 1, 3, 4, 3,\n",
       "         3, 3, 3, 4, 2, 3, 2, 3, 2, 3, 2])),\n",
       " (0.4794520547945205,\n",
       "  0.52,\n",
       "  array([2, 3, 2, 2, 2, 4, 2, 2, 3, 2, 1, 3, 3, 2, 4, 3, 2, 3, 2, 3, 2, 3,\n",
       "         3, 0, 3, 3, 4, 2, 2, 2, 2, 0, 2, 2, 2, 2, 2, 0, 3, 3, 3, 2, 3, 3,\n",
       "         3, 3, 3, 2, 4, 2, 2, 3, 3, 2, 3, 2, 3, 4, 3, 2, 2, 2, 2, 2, 0, 3,\n",
       "         3, 3, 2, 3, 2, 3, 3, 2, 3, 2, 2, 2, 3, 3, 3, 2, 3, 3, 2, 2, 2, 3,\n",
       "         2, 3, 3, 3, 2, 0, 2, 2, 2, 3, 2, 2, 3, 2, 2, 2, 4, 3, 2, 2, 2, 3,\n",
       "         3, 2, 2, 3, 3, 3, 2, 3, 3, 2, 3, 2, 1, 0, 1, 0, 2, 4, 4, 2, 3, 0,\n",
       "         2, 4, 2, 1, 3, 3, 4, 3, 2, 2, 3, 2, 3, 3, 2, 2, 3, 3, 2, 3, 3, 2,\n",
       "         2, 3, 3, 3, 3, 3, 2, 2, 3, 4, 3, 2, 4, 3, 2, 2, 3, 2, 2, 2, 3, 3,\n",
       "         2, 3, 2, 3, 3, 1, 2, 3, 3, 2, 1, 3, 3, 1, 2, 2, 4, 3, 3, 2, 2, 2,\n",
       "         1, 2, 0, 2, 2, 3, 2, 2, 3, 3, 2, 3, 3, 3, 3, 4, 2, 2, 4, 4, 2])),\n",
       " (0.5529411764705883,\n",
       "  0.56,\n",
       "  array([2, 3, 3, 2, 3, 3, 2, 3, 3, 2, 3, 1, 2, 4, 3, 4, 2, 3, 2, 3, 2, 3,\n",
       "         3, 0, 3, 2, 3, 2, 0, 3, 2, 4, 3, 2, 2, 3, 2, 2, 2, 3, 2, 2, 4, 3,\n",
       "         3, 3, 2, 2, 2, 3, 2, 2, 2, 3, 3, 3, 2, 4, 3, 2, 2, 3, 3, 2, 2, 2,\n",
       "         2, 3, 2, 0, 2, 2, 3, 4, 3, 2, 3, 2, 2, 4, 3, 2, 2, 2, 4, 2, 2, 3,\n",
       "         2, 3, 2, 2, 2, 2, 3, 2, 3, 2, 0, 1, 3, 0, 2, 3, 3, 0, 4, 3, 3, 3,\n",
       "         2, 3, 2, 2, 2, 1, 2, 2, 2, 2, 0, 2, 3, 3, 2, 2, 2, 4, 0, 2, 2, 3,\n",
       "         2, 3, 0, 2, 3, 3, 2, 3, 2, 2, 3, 3, 3, 2, 3, 0, 3, 2, 2, 3, 2, 0,\n",
       "         3, 3, 3, 3, 3, 4, 3, 2, 2, 2, 3, 2, 3, 3, 3, 2, 0, 2, 2, 3, 2, 3,\n",
       "         3, 3, 1, 2, 3, 3, 3, 3, 2, 2, 3, 3, 3, 2, 3, 4, 2, 3, 2, 3, 3, 2,\n",
       "         3, 1, 0, 2, 2, 3, 3, 3, 2, 2, 2, 3, 3, 2, 3, 2, 3, 2, 3, 3, 2, 2,\n",
       "         2, 2, 2, 4, 2, 2, 3, 2, 2, 4, 3, 3, 3, 4, 3, 3, 2, 4, 3, 2, 4, 3,\n",
       "         3, 3, 3, 4, 3, 2, 3, 3, 2, 3, 2, 2, 3])),\n",
       " (0.5778688524590164,\n",
       "  0.6,\n",
       "  array([1, 3, 2, 0, 2, 2, 3, 2, 2, 2, 2, 3, 3, 2, 2, 2, 3, 4, 2, 3, 3, 2,\n",
       "         3, 2, 2, 2, 3, 4, 2, 3, 3, 2, 2, 2, 3, 2, 2, 4, 3, 3, 2, 3, 3, 3,\n",
       "         3, 2, 2, 2, 2, 3, 3, 3, 3, 2, 2, 3, 2, 3, 2, 3, 2, 3, 3, 2, 2, 3,\n",
       "         3, 2, 2, 2, 2, 2, 3, 4, 2, 3, 3, 2, 3, 0, 3, 1, 2, 3, 2, 3, 3, 1,\n",
       "         2, 3, 2, 2, 2, 2, 3, 2, 2, 3, 2, 3, 2, 2, 2, 3, 3, 0, 2, 3, 3, 2,\n",
       "         2, 3, 3, 3, 2, 2, 2, 3, 2, 3, 3, 2, 3, 2, 2, 2, 2, 2, 3, 1, 2, 3,\n",
       "         3, 2, 3, 3, 2, 2, 3, 3, 3, 2, 2, 3, 3, 2, 3, 2, 3, 2, 3, 2, 2, 2,\n",
       "         2, 3, 3, 3, 2, 2, 2, 2, 2, 3, 3, 3, 4, 2, 3, 3, 2, 2, 2, 3, 2, 2,\n",
       "         3, 2, 2, 2, 3, 3, 3, 3, 2, 3, 2, 0, 3, 2, 0, 3, 2, 3, 4, 3, 2, 2,\n",
       "         3, 2, 3, 3, 2, 3, 2, 3, 0, 2, 3, 4, 3, 4, 2, 2, 3, 2, 2, 2, 3, 2,\n",
       "         2, 3, 3, 3, 2, 2, 3, 3, 3, 2, 3, 2, 3, 4, 3, 2, 3, 2, 3, 3, 2, 4,\n",
       "         2, 2])),\n",
       " (0.6431372549019608,\n",
       "  0.64,\n",
       "  array([3, 3, 3, 3, 2, 3, 2, 2, 2, 2, 2, 0, 3, 3, 2, 2, 2, 2, 3, 3, 3, 3,\n",
       "         3, 3, 2, 2, 3, 2, 2, 2, 2, 3, 2, 3, 2, 3, 3, 2, 3, 3, 3, 3, 3, 3,\n",
       "         2, 1, 2, 2, 3, 2, 3, 2, 3, 2, 0, 3, 2, 2, 2, 3, 0, 2, 2, 2, 3, 2,\n",
       "         2, 2, 0, 3, 2, 3, 3, 2, 2, 2, 3, 2, 2, 3, 3, 3, 3, 2, 2, 2, 3, 2,\n",
       "         3, 3, 2, 3, 3, 3, 2, 3, 2, 2, 3, 2, 2, 0, 3, 1, 2, 3, 3, 2, 3, 3,\n",
       "         3, 2, 3, 3, 3, 3, 2, 3, 3, 3, 2, 3, 3, 2, 3, 2, 2, 3, 2, 2, 3, 2,\n",
       "         3, 3, 3, 2, 2, 2, 3, 2, 4, 3, 3, 3, 2, 4, 3, 3, 3, 2, 3, 3, 0, 2,\n",
       "         2, 2, 0, 2, 3, 2, 3, 2, 0, 3, 3, 3, 2, 3, 2, 3, 3, 3, 2, 3, 2, 3,\n",
       "         2, 3, 3, 2, 3, 2, 2, 3, 3, 3, 2, 2, 2, 3, 3, 2, 2, 2, 3, 0, 3, 4,\n",
       "         3, 4, 2, 3, 3, 3, 2, 2, 3, 3, 3, 3, 3, 2, 3, 3, 3, 0, 2, 2, 2, 3,\n",
       "         3, 2, 3, 3, 3, 2, 2, 3, 3, 2, 3, 3, 3, 3, 2, 2, 3, 3, 3, 3, 2, 0,\n",
       "         3, 2, 2, 3, 2, 3, 3, 2, 3, 2, 4, 3, 3])),\n",
       " (0.6402640264026402,\n",
       "  0.68,\n",
       "  array([3, 0, 2, 3, 3, 3, 3, 2, 3, 3, 2, 3, 2, 2, 3, 3, 3, 3, 3, 3, 3, 2,\n",
       "         3, 3, 2, 2, 3, 2, 3, 2, 2, 3, 2, 3, 2, 3, 3, 3, 2, 3, 3, 3, 4, 3,\n",
       "         3, 2, 0, 3, 3, 2, 0, 3, 3, 2, 3, 2, 2, 3, 3, 3, 3, 3, 2, 3, 3, 2,\n",
       "         3, 3, 3, 2, 3, 2, 2, 2, 3, 0, 2, 3, 2, 3, 2, 3, 4, 2, 3, 2, 3, 3,\n",
       "         2, 2, 3, 3, 3, 3, 1, 3, 3, 3, 3, 3, 2, 4, 3, 2, 3, 2, 2, 2, 0, 2,\n",
       "         3, 3, 3, 2, 3, 3, 3, 3, 2, 3, 3, 4, 2, 0, 3, 2, 0, 2, 3, 3, 3, 3,\n",
       "         3, 2, 2, 3, 3, 3, 3, 2, 2, 3, 3, 3, 2, 2, 3, 3, 3, 2, 3, 3, 2, 1,\n",
       "         2, 3, 2, 3, 2, 3, 2, 3, 3, 3, 2, 1, 3, 2, 3, 3, 3, 3, 2, 0, 2, 2,\n",
       "         3, 3, 2, 0, 4, 2, 3, 2, 2, 3, 2, 2, 2, 3, 2, 3, 2, 3, 3, 3, 2, 3,\n",
       "         2, 3, 3, 3, 3, 3, 2, 3, 2, 3, 3, 2, 3, 2, 1, 3, 3, 1, 3, 2, 3, 3,\n",
       "         2, 2, 2, 3, 2, 2, 0, 2, 3, 3, 3, 3, 2, 3, 4, 3, 2, 3, 3, 3, 3, 3,\n",
       "         2, 3, 2, 3, 3, 0, 3, 2, 3, 2, 2, 3, 2, 2, 2, 2, 2, 2, 3, 3, 2, 3,\n",
       "         4, 3, 2, 3, 3, 2, 3, 2, 2, 3, 3, 2, 2, 3, 3, 3, 3, 3, 0, 3, 3, 2,\n",
       "         2, 3, 4, 3, 3, 3, 2, 0, 2, 3, 0, 2, 3, 3, 3, 2, 3])),\n",
       " (0.6839378238341969,\n",
       "  0.72,\n",
       "  array([3, 2, 2, 2, 2, 2, 2, 2, 3, 2, 2, 2, 3, 3, 2, 3, 2, 2, 2, 2, 3, 3,\n",
       "         3, 2, 3, 3, 3, 3, 3, 3, 2, 3, 3, 3, 3, 0, 2, 3, 2, 2, 4, 2, 3, 2,\n",
       "         3, 2, 3, 2, 2, 2, 4, 3, 2, 1, 3, 2, 3, 2, 2, 2, 3, 3, 2, 3, 3, 3,\n",
       "         3, 3, 3, 3, 2, 2, 3, 3, 2, 4, 3, 3, 4, 2, 3, 3, 2, 2, 2, 3, 3, 3,\n",
       "         3, 3, 3, 3, 4, 1, 2, 1, 3, 2, 3, 2, 3, 3, 3, 3, 2, 2, 3, 3, 3, 3,\n",
       "         3, 3, 3, 2, 0, 3, 3, 2, 3, 3, 2, 2, 1, 2, 2, 3, 0, 3, 2, 3, 4, 3,\n",
       "         1, 2, 3, 3, 4, 2, 2, 0, 2, 3, 2, 2, 0, 2, 3, 2, 2, 3, 3, 3, 2, 3,\n",
       "         0, 3, 3, 0, 3, 3, 2, 3, 4, 0, 3, 2, 2, 3, 2, 3, 3, 3, 3, 2, 3, 3,\n",
       "         2, 3, 3, 3, 1, 3, 3, 2, 2, 0, 2, 3, 2, 3, 3, 3, 3, 1, 1, 1, 3, 3,\n",
       "         2, 3, 2, 4, 3, 3, 3, 1, 3, 2, 3, 3, 3, 3, 2, 2, 2, 3, 3, 3, 3, 2,\n",
       "         0, 2, 3, 2, 3, 3, 3, 3, 4, 3, 3, 3, 3, 4, 2, 2, 2, 3, 3, 3, 0, 2,\n",
       "         2, 2, 3, 2, 2, 2, 3, 3, 3, 3, 2, 2, 3, 3, 0, 3, 3, 2, 2, 3, 3, 3,\n",
       "         2, 2, 3, 3, 3, 3, 3, 3, 3, 3, 3, 3, 2, 2, 2, 2, 2, 2, 2, 3, 2, 3,\n",
       "         2, 2, 2, 3, 3, 3, 0, 3, 2, 3, 2, 3, 3, 2, 2, 3, 3, 3, 2, 3, 3, 3,\n",
       "         3, 3, 1, 3, 2, 3, 0, 2, 2, 2, 3, 3, 4, 3, 3, 2, 3, 2, 3, 2, 0, 2,\n",
       "         3, 2, 3, 2, 3, 2, 3, 3, 2, 3, 1, 3, 3, 3, 0, 3, 3, 3, 2, 3, 3, 4,\n",
       "         3, 3, 2, 0, 2, 2, 3, 2, 3, 2, 3, 2, 3, 3, 3, 2, 2, 3, 3, 3, 3, 1,\n",
       "         3, 3, 3, 0, 3, 3, 3, 3, 2, 2, 3, 3])),\n",
       " (0.75,\n",
       "  0.76,\n",
       "  array([2, 2, 3, 2, 2, 3, 2, 0, 3, 2, 2, 3, 3, 2, 2, 3, 3, 2, 3, 3, 3, 3,\n",
       "         3, 3, 3, 2, 3, 3, 3, 3, 0, 3, 3, 2, 0, 3, 3, 2, 2, 3, 3, 3, 3, 3,\n",
       "         0, 3, 2, 3, 3, 3, 3, 3, 3, 3, 2, 3, 0, 3, 0, 3, 3, 3, 3, 3, 2, 3,\n",
       "         3, 2, 3, 2, 2, 3, 3, 2, 1, 3, 3, 3, 2, 3, 3, 2, 3, 3, 3, 2, 3, 3,\n",
       "         3, 2, 2, 3, 2, 2, 3, 3, 3, 3, 2, 2, 2, 2, 3, 3, 2, 2, 2, 3, 2, 2,\n",
       "         2, 3, 3, 3, 3, 3, 3, 2, 3, 0, 2, 2, 2, 3, 3, 0, 3, 2, 3, 2, 2, 3,\n",
       "         3, 3, 3, 3, 3, 3, 3, 2, 3, 3, 2, 3, 3, 3, 3, 3, 3, 3, 2, 3, 3, 4,\n",
       "         2, 3, 3, 2, 3, 2, 2, 2, 3, 3, 2, 0, 3, 3, 2, 3, 2, 2, 3, 3, 3, 3,\n",
       "         2, 2, 2, 3, 2, 3, 3, 3, 3, 2, 3, 0, 3, 3, 3, 3, 2, 3, 2, 2, 3, 3,\n",
       "         2, 2, 2, 2, 3, 3, 3, 2, 3, 2, 0, 2, 3, 3, 3, 2, 3, 3, 3, 3, 2, 3,\n",
       "         3, 2, 2, 2, 0, 2, 3, 3, 3, 3, 3, 3, 3, 2, 2, 2, 3, 3, 2, 3, 2, 3,\n",
       "         2, 3, 2, 2, 2, 2, 2, 3, 3, 3, 3, 3, 3, 2, 3, 2, 3, 3, 2, 3, 0, 2,\n",
       "         2, 2, 3, 4, 2, 2, 2, 2, 2, 3, 3, 2, 3, 3, 2, 3, 3, 2, 2, 3, 3, 2,\n",
       "         2, 2, 3, 1, 3, 3, 2, 3, 3, 3, 2, 0, 3, 2, 2, 3, 3, 3, 3, 3, 3, 2,\n",
       "         2, 3, 0, 3, 2, 3, 3, 2, 4, 3, 3, 2, 2, 2, 3, 3, 2, 2, 3, 2, 0, 3,\n",
       "         0, 2, 2, 3, 3, 2, 2, 3, 3, 3, 2, 3, 3, 3, 3, 3, 0, 3, 3, 3, 3, 3,\n",
       "         3, 2, 3, 3, 2, 3, 3, 3, 2, 2, 3, 3, 2, 3, 3, 3, 3, 2, 1, 3, 3, 2,\n",
       "         3, 3, 2, 2, 3, 3, 3, 3, 4, 2, 3, 3, 2, 2, 3, 3, 3, 3, 1, 3, 2, 3,\n",
       "         2, 2, 3, 2, 2, 3, 3, 2, 2, 3, 3, 3, 3, 3, 4, 2, 3, 2, 4, 2, 2, 2,\n",
       "         2, 3, 3, 3, 3, 3, 3, 3, 3, 2, 3, 3, 3, 3, 3, 3, 3, 2, 3, 0, 3, 2,\n",
       "         0, 3, 3, 3, 3, 3, 2, 0, 2, 3, 3, 3, 2, 3, 3, 2, 3, 3, 2, 3, 3, 2,\n",
       "         3, 3, 2, 3, 3, 3])),\n",
       " (0.7575757575757576,\n",
       "  0.8,\n",
       "  array([2, 2, 3, 2, 3, 3, 0, 3, 2, 3, 3, 3, 2, 3, 2, 3, 2, 3, 3, 3, 3, 2,\n",
       "         3, 3, 3, 3, 3, 3, 2, 3, 3, 2, 2, 3, 2, 2, 3, 2, 2, 2, 3, 3, 3, 3,\n",
       "         3, 3, 2, 3, 3, 0, 3, 2, 2, 2, 3, 3, 2, 3, 2, 3, 3, 3, 3, 3, 3, 2,\n",
       "         2, 2, 2, 3, 3, 3, 3, 0, 3, 3, 3, 0, 2, 3, 4, 3, 2, 2, 3, 3, 2, 3,\n",
       "         3, 3, 3, 3, 2, 3, 3, 2, 3, 2, 2, 0, 3, 3, 3, 3, 3, 3, 4, 3, 2, 2,\n",
       "         3, 3, 3, 3, 2, 2, 3, 3, 3, 3, 3, 2, 3, 3, 2, 3, 3, 3, 3, 3, 3, 3,\n",
       "         3, 3, 3, 2, 2, 2, 2, 2, 3, 3, 2, 3, 2, 2, 3, 3, 3, 2, 3, 2, 2, 3,\n",
       "         3, 3, 3, 3, 2, 3, 3, 3, 3, 3, 2, 3, 3, 3, 3, 3, 2, 2, 0, 3, 3, 3,\n",
       "         3, 2, 2, 3, 2, 3, 3, 3, 2, 3, 2, 2, 3, 2, 1, 2, 1, 3, 3, 3, 3, 3,\n",
       "         3, 2, 3, 3, 3, 3, 3, 2, 3, 3, 2, 3, 3, 2, 2, 3, 2, 3, 2, 3, 3, 3,\n",
       "         3, 3, 3, 2, 2, 2, 2, 3, 0, 3, 3, 3, 3, 3, 3, 0, 3, 3, 3, 3, 2, 3,\n",
       "         3, 3, 3, 0, 3, 3, 3, 2, 3, 3, 3, 2, 3, 2, 3, 2, 3, 3, 2, 2, 2, 3,\n",
       "         3, 3, 3, 2, 3, 2, 3, 3, 3, 2, 2, 2, 3, 2, 2, 3, 2, 3, 2, 3, 3, 2,\n",
       "         2, 3, 3, 2, 3, 2, 3, 3, 2, 3, 2, 3, 3, 0, 3, 2, 3, 3, 3, 3, 2, 2,\n",
       "         1, 3, 3, 3, 2, 3, 3, 2, 3, 3, 3, 3, 3, 3, 3, 2, 3, 2, 3, 2, 3, 2,\n",
       "         2, 1, 3, 2, 2, 3, 2, 2, 3, 2, 3, 4, 3, 3, 3, 2, 2, 2, 2, 3, 3, 2,\n",
       "         2, 2, 3, 3, 3, 3, 2, 3, 2, 3, 3, 0, 2, 2, 3, 1, 2, 0, 3, 2, 3, 2,\n",
       "         3, 3, 2, 3, 3, 3, 3, 4, 2, 3, 2, 2, 3, 3, 0, 3, 2, 2, 2, 3, 3, 3,\n",
       "         2, 3, 3, 3, 3, 3, 2, 2, 2, 2, 3, 3, 3, 3, 3, 3, 3, 3, 3, 3, 3, 3,\n",
       "         2, 3, 3, 3, 2, 3, 3, 0, 3, 2, 3, 2, 2, 3, 3, 3, 3, 3, 2, 1, 2, 3,\n",
       "         2, 2, 3, 3, 3, 2, 3, 3, 3, 2, 2, 3, 2, 3, 2, 0, 2, 3, 3, 3, 3, 3,\n",
       "         2, 3, 3, 3, 3, 3, 3, 2, 2, 2, 2, 3, 2, 2, 2, 3, 2, 2, 3, 3, 2, 3,\n",
       "         3, 3, 3, 3, 3, 0, 2, 3, 3, 3, 3, 3, 3, 3, 3, 3, 3, 2, 2, 3, 4, 3,\n",
       "         3, 1, 3, 3, 3, 3, 3, 3, 3, 3, 2, 2, 3, 3, 2, 3, 3, 3, 3, 3, 3, 3,\n",
       "         3, 3, 2, 2, 3, 0, 3, 3, 3, 4, 3, 3, 2, 3, 3, 2, 3, 3, 2, 0, 2, 3,\n",
       "         2, 3, 3, 3, 3, 2, 2, 3, 3, 3, 2, 2, 2, 3, 2, 3, 3, 2, 3, 4, 2, 1,\n",
       "         2, 2, 1, 3, 3, 2, 3, 3, 3, 2, 2, 3, 3, 3, 3, 3, 2, 2, 3, 3, 2, 3,\n",
       "         3, 3, 2, 2, 2, 3, 3, 3, 3, 3, 2, 2, 3, 3, 3, 3, 3, 2, 3, 2, 2, 3,\n",
       "         3, 2, 3, 3, 2, 3, 3, 3, 3, 2, 2])),\n",
       " (0.7995418098510882,\n",
       "  0.84,\n",
       "  array([2, 0, 3, 3, 3, 3, 3, 2, 2, 3, 3, 3, 2, 2, 3, 3, 3, 2, 2, 3, 3, 3,\n",
       "         3, 2, 3, 3, 3, 3, 3, 2, 3, 3, 2, 3, 3, 3, 3, 2, 3, 3, 2, 3, 4, 3,\n",
       "         2, 3, 3, 2, 3, 2, 2, 2, 2, 2, 3, 2, 3, 3, 3, 3, 3, 3, 2, 3, 3, 2,\n",
       "         3, 3, 3, 3, 3, 2, 2, 3, 3, 2, 3, 3, 3, 3, 3, 2, 3, 2, 2, 2, 2, 3,\n",
       "         2, 2, 3, 2, 3, 3, 2, 1, 2, 3, 3, 3, 3, 3, 3, 3, 2, 3, 3, 3, 3, 3,\n",
       "         3, 3, 1, 3, 3, 3, 3, 3, 3, 3, 3, 3, 3, 3, 3, 2, 2, 3, 2, 3, 3, 2,\n",
       "         3, 2, 2, 3, 2, 2, 3, 3, 3, 2, 3, 3, 3, 3, 3, 3, 3, 2, 0, 3, 3, 3,\n",
       "         3, 3, 3, 3, 3, 3, 3, 3, 3, 1, 2, 3, 2, 3, 2, 2, 2, 3, 3, 3, 3, 3,\n",
       "         3, 2, 2, 2, 0, 2, 2, 2, 3, 3, 3, 3, 2, 2, 3, 2, 3, 3, 2, 2, 3, 2,\n",
       "         3, 2, 3, 3, 3, 3, 3, 2, 3, 3, 1, 0, 3, 3, 3, 3, 3, 3, 2, 3, 3, 3,\n",
       "         2, 2, 2, 3, 3, 2, 0, 2, 2, 2, 1, 3, 0, 3, 3, 3, 3, 2, 3, 3, 2, 3,\n",
       "         2, 2, 3, 3, 3, 2, 2, 2, 3, 2, 4, 2, 2, 3, 1, 3, 3, 2, 3, 3, 3, 3,\n",
       "         2, 3, 2, 1, 3, 3, 2, 2, 2, 2, 3, 3, 3, 3, 2, 3, 3, 3, 3, 3, 3, 3,\n",
       "         3, 2, 3, 3, 3, 3, 3, 3, 2, 2, 2, 2, 4, 3, 2, 3, 2, 3, 3, 3, 3, 3,\n",
       "         3, 3, 2, 3, 2, 3, 3, 3, 3, 3, 2, 3, 3, 1, 3, 2, 3, 2, 2, 3, 3, 2,\n",
       "         3, 3, 3, 2, 3, 3, 3, 3, 3, 2, 3, 3, 3, 4, 3, 3, 3, 3, 3, 3, 2, 3,\n",
       "         3, 3, 3, 3, 3, 3, 3, 3, 3, 2, 2, 3, 3, 3, 3, 3, 3, 2, 2, 3, 3, 3,\n",
       "         3, 2, 2, 2, 4, 2, 2, 3, 3, 3, 2, 3, 3, 3, 2, 3, 3, 0, 0, 3, 2, 2,\n",
       "         3, 3, 3, 3, 2, 2, 3, 3, 3, 3, 2, 3, 3, 3, 3, 3, 3, 3, 3, 3, 3, 3,\n",
       "         3, 3, 3, 3, 3, 2, 3, 3, 3, 2, 3, 3, 3, 1, 2, 3, 3, 2, 2, 3, 2, 2,\n",
       "         3, 3, 3, 3, 3, 3, 3, 2, 3, 2, 2, 3, 3, 3, 2, 3, 3, 3, 3, 3, 3, 3,\n",
       "         2, 2, 3, 2, 1, 3, 3, 2, 3, 3, 3, 3, 4, 2, 3, 3, 3, 3, 3, 3, 3, 3,\n",
       "         2, 3, 2, 3, 3, 2, 3, 1, 3, 3, 2, 3, 3, 2, 3, 2, 2, 2, 3, 3, 3, 3,\n",
       "         3, 3, 2, 3, 2, 3, 3, 3, 3, 3, 3, 3, 3, 2, 2, 3, 2, 3, 3, 2, 3, 3,\n",
       "         0, 1, 3, 3, 2, 3, 2, 2, 2, 3, 3, 3, 3, 3, 2, 3, 3, 3, 3, 2, 3, 2,\n",
       "         3, 3, 1, 3, 2, 1, 2, 0, 2, 3, 2, 3, 3, 3, 3, 2, 3, 3, 2, 3, 3, 3,\n",
       "         2, 2, 3, 1, 3, 3, 3, 3, 0, 2, 2, 3, 3, 3, 2, 3, 3, 2, 2, 2, 3, 2,\n",
       "         0, 2, 3, 3, 3, 3, 3, 3, 3, 3, 2, 2, 3, 2, 3, 3, 3, 3, 3, 2, 3, 2,\n",
       "         4, 2, 2, 3, 3, 3, 3, 3, 3, 3, 2, 2, 0, 2, 3, 2, 3, 3, 1, 2, 3, 3,\n",
       "         3, 3, 3, 3, 2, 3, 3, 2, 3, 2, 3, 3, 3, 3, 2, 3, 2, 3, 3, 0, 3, 3,\n",
       "         2, 2, 3, 3, 2, 3, 3, 3, 2, 3, 3, 3, 2, 2, 3, 3, 2, 2, 2, 3, 2, 3,\n",
       "         3, 3, 3, 3, 3, 3, 2, 3, 3, 3, 2, 3, 3, 3, 2, 2, 2, 3, 2, 3, 1, 2,\n",
       "         3, 2, 2, 4, 2, 3, 2, 3, 3, 3, 3, 2, 3, 1, 0, 4, 1, 3, 2, 3, 3, 3,\n",
       "         2, 3, 2, 3, 3, 3, 2, 3, 3, 3, 3, 3, 3, 0, 2, 2, 2, 0, 3, 3, 3, 3,\n",
       "         3, 2, 3, 2, 3, 3, 3, 3, 3, 2, 2, 4, 3, 2, 3, 3, 3, 3, 1, 2, 3, 3,\n",
       "         3, 2, 2, 3, 3, 3, 3, 2, 3, 3, 3, 2, 2, 3, 3, 2, 2, 3, 1, 3, 3, 3,\n",
       "         3, 3, 3, 2, 3, 3, 2, 3, 3, 0, 3, 2, 2, 3, 1, 3, 2, 3, 3, 3, 3, 3,\n",
       "         3, 2, 3, 2, 3, 3, 3, 3, 3, 2, 2, 2, 3, 2, 3, 2, 3, 3, 3, 3, 3, 3,\n",
       "         3, 3, 2, 3, 2, 2, 3, 3, 3, 2, 3, 3, 3, 3, 3, 3, 3, 3, 2, 2, 3, 3,\n",
       "         3, 3, 3, 3, 2, 2, 2, 3, 0, 3, 3, 3, 3, 3, 3])),\n",
       " (0.86415963161934, 0.88, array([3, 2, 3, ..., 3, 2, 3])),\n",
       " (0.8955916473317865, 0.92, array([3, 3, 2, ..., 3, 3, 2])),\n",
       " (0.9857237715803453, 0.96, array([1, 2, 4, ..., 4, 2, 4]))]"
      ]
     },
     "execution_count": 49,
     "metadata": {},
     "output_type": "execute_result"
    }
   ],
   "source": [
    "list(zip(corr, bins, labs))"
   ]
  },
  {
   "cell_type": "code",
   "execution_count": null,
   "metadata": {},
   "outputs": [],
   "source": []
  },
  {
   "cell_type": "code",
   "execution_count": 27,
   "metadata": {},
   "outputs": [
    {
     "data": {
      "text/plain": [
       "[array([], dtype=int64),\n",
       " array([], dtype=int64),\n",
       " array([], dtype=int64),\n",
       " array([], dtype=int64),\n",
       " array([], dtype=int64),\n",
       " array([], dtype=int64),\n",
       " array([], dtype=int64),\n",
       " array([], dtype=int64),\n",
       " array([4]),\n",
       " array([4, 4]),\n",
       " array([0]),\n",
       " array([2, 2, 2]),\n",
       " array([0, 0, 3, 2, 2, 2, 2, 3, 3, 2, 0, 3, 3, 3]),\n",
       " array([3, 0, 2, 0, 0, 2, 2, 3, 2, 2, 2, 2, 2, 3, 2, 2, 2, 4, 1, 2, 3, 4,\n",
       "        3, 3, 3, 4, 3, 2, 3, 3, 3, 2, 2]),\n",
       " array([4, 2, 3, 2, 2, 3, 2, 3, 2, 3, 3, 2, 0, 2, 3, 1, 3, 3, 3, 3, 3, 2,\n",
       "        0, 1, 2, 2, 2, 2, 3, 2, 0, 2, 2, 2]),\n",
       " array([1, 2, 3, 3, 3, 1, 2, 0, 3, 3, 2, 3, 1, 3, 2, 3, 3, 2, 3, 3, 3, 2,\n",
       "        2, 2, 2, 3, 3, 2, 3, 3, 0, 2, 3, 3, 2, 2]),\n",
       " array([3, 2, 2, 0, 3, 3, 3, 3, 3, 3, 1, 3, 3, 2, 2, 2, 3, 2, 2, 2, 2, 3,\n",
       "        3, 3, 2, 3, 3, 3, 3, 0, 3, 3, 1, 3, 3, 2, 2]),\n",
       " array([2, 2, 3, 2, 3, 3, 2, 1, 3, 2, 3, 3, 3, 0, 2, 3, 3, 3, 4, 2, 3, 0,\n",
       "        2, 4, 2, 2, 3, 1, 2, 2, 3, 2, 2, 2, 3, 2, 2]),\n",
       " array([3, 2, 2, 3, 2, 3, 3, 2, 3, 3, 2, 2, 2, 3, 2, 3, 2, 2, 3, 2, 3, 0,\n",
       "        0, 3, 2, 2, 2, 2, 2, 3, 2, 3, 3, 2, 1, 4, 3, 2, 2, 0, 3, 2, 0, 3,\n",
       "        3, 3, 3, 2, 2, 2, 1]),\n",
       " array([2, 2, 3, 3, 3, 3, 2, 3, 1, 3, 3, 2, 3, 3, 2, 3, 3, 2, 3, 3, 0, 3,\n",
       "        2, 3, 3, 4, 2, 3, 0, 4, 3, 3, 3, 2, 2, 3, 3, 3, 3, 3, 3, 2, 3, 3,\n",
       "        2, 3, 1, 3, 3, 3, 2, 3, 1, 3, 3, 2, 3, 3, 2, 3, 3, 3, 3, 3, 2, 3,\n",
       "        2, 2, 2, 3, 3, 3, 3]),\n",
       " array([3, 3, 3, 3, 3, 3, 2, 0, 2, 2, 3, 3, 3, 3, 3, 3, 3, 3, 2, 2, 2, 3,\n",
       "        3, 3, 3, 3, 3, 3, 3, 3, 3, 3, 3, 1, 3, 2, 3, 2, 3, 3, 3, 2, 2, 3,\n",
       "        3, 2, 3, 3, 2, 0, 2, 2, 3, 2, 3, 2, 1, 3, 0, 3, 3, 0, 2, 3, 3, 3,\n",
       "        3, 3, 3, 2, 2, 3, 3, 3, 3, 2, 2, 2, 2, 3, 2, 3, 3, 2, 3, 3, 3, 2,\n",
       "        3, 3, 3, 2, 3, 2, 3, 4, 0]),\n",
       " array([3, 0, 3, 3, 2, 3, 2, 3, 3, 3, 3, 3, 0, 2, 3, 3, 2, 3, 3, 3, 2, 3,\n",
       "        4, 4, 3, 3, 3, 3, 3, 3, 3, 3, 2, 2, 3, 3, 3, 3, 3, 3, 3, 3, 3, 3,\n",
       "        3, 3, 2, 2, 2, 3, 3, 3, 3, 3, 3, 3, 2, 3, 2, 3, 3, 1, 3, 0, 3, 2,\n",
       "        3, 3, 2, 3, 2, 3, 3, 3, 2, 3, 3, 3, 3, 2, 3, 3, 1, 2, 3, 3, 3, 3,\n",
       "        2, 2, 2, 2, 3, 3, 3, 3, 2, 3, 2, 3, 2, 2, 2, 3, 3, 3, 3, 3, 3, 3,\n",
       "        3, 1, 3, 3, 3, 3, 3, 3, 3, 0, 3, 3, 2, 2, 3, 3, 3, 3, 3, 2, 2, 3,\n",
       "        2, 3, 2, 1, 3, 3, 2, 0, 2, 3, 3, 3, 2, 3, 2, 2, 2, 1, 2, 2, 2]),\n",
       " array([2, 3, 3, 3, 3, 3, 3, 2, 3, 2, 3, 3, 3, 3, 3, 2, 3, 3, 4, 0, 3, 2,\n",
       "        1, 1, 3, 3, 3, 0, 3, 3, 3, 3, 3, 3, 3, 3, 3, 3, 3, 3, 2, 2, 2, 3,\n",
       "        3, 3, 2, 3, 3, 3, 2, 3, 3, 3, 3, 3, 3, 3, 3, 2, 3, 3, 3, 3, 2, 3,\n",
       "        3, 3, 3, 3, 0, 3, 3, 3, 3, 3, 2, 2, 2, 3, 2, 2, 3, 3, 2, 3, 4, 2,\n",
       "        3, 3, 3, 3, 1, 3, 3, 3, 3, 0, 3, 2, 3, 2, 3, 2, 3, 3, 1, 3, 3, 2,\n",
       "        2, 3, 2, 3, 3, 3, 3, 2, 3, 2, 3, 3, 3, 3, 3, 3, 3, 2, 2, 3, 3, 3,\n",
       "        3, 3, 3, 0, 2, 3, 3, 1, 2, 3, 3, 3, 3, 3, 3, 3, 3, 2, 1, 3, 3, 3,\n",
       "        3, 3, 3, 3, 3, 3, 3, 3, 3, 3, 3, 2, 3, 3, 3, 3, 3, 2, 3, 3, 3, 3,\n",
       "        4, 2, 3, 3, 3, 3, 3, 2, 3, 3, 3, 2, 3, 2, 3, 3, 0, 1, 3, 3, 3, 3,\n",
       "        3, 3, 2, 2]),\n",
       " array([3, 0, 3, 2, 3, 2, 1, 3, 3, 1, 2, 3, 3, 3, 3, 3, 3, 3, 3, 3, 3, 3,\n",
       "        3, 3, 2, 3, 2, 3, 3, 3, 3, 0, 2, 2, 3, 3, 3, 3, 2, 3, 3, 2, 2, 3,\n",
       "        3, 3, 3, 3, 3, 2, 2, 3, 3, 3, 3, 3, 2, 3, 3, 3, 3, 2, 2, 3, 2, 3,\n",
       "        3, 3, 3, 3, 2, 3, 2, 3, 3, 3, 3, 4, 3, 3, 3, 2, 3, 3, 3, 3, 3, 3,\n",
       "        3, 2, 3, 2, 2, 3, 3, 2, 3, 3, 3, 2, 3, 2, 2, 3, 3, 3, 3, 3, 3, 3,\n",
       "        3, 1, 3, 3, 3, 2, 3, 2, 3, 3, 2, 3, 3, 0, 3, 3, 3, 3, 0, 3, 2, 2,\n",
       "        3, 2, 3, 3, 3, 3, 2, 2, 3, 3, 3, 3, 2, 3, 3, 3, 3, 2, 3, 3, 3, 2,\n",
       "        3, 2, 3, 2, 3, 3, 3, 0, 2, 3, 2, 2, 3, 3, 4, 3, 2, 2, 4, 3, 2, 3,\n",
       "        3, 3, 3, 2, 2, 2, 2, 3, 3, 3, 3, 3, 3, 1, 3, 3, 3, 3, 3, 3, 3, 3,\n",
       "        3, 3, 2, 3, 3, 3, 3, 3, 3, 3, 2, 3, 3, 3, 2, 3, 2, 1, 2, 3, 2, 2,\n",
       "        3, 2, 3, 3, 3, 3, 3, 3, 3, 2, 3, 3, 2, 3, 3, 1, 3, 3, 2, 3, 3, 3,\n",
       "        2, 2, 3, 3, 3, 3, 3, 3, 3, 3, 3, 2, 3, 3, 3, 3, 3, 3, 3, 3, 3, 2,\n",
       "        3, 3, 3, 2, 3, 3, 0, 4, 2, 2, 2, 3, 2, 3, 2, 3, 3, 3, 2, 3, 3, 3,\n",
       "        3, 3, 2, 3, 3, 3, 2, 3, 3, 3, 3, 3, 3, 2, 3, 3, 3, 2, 3, 3, 1, 3,\n",
       "        3, 3, 2, 3, 3, 3, 3, 3, 3, 3, 3, 3, 3, 3, 3, 3, 2, 3, 2, 3, 2, 2,\n",
       "        3, 3, 1, 3, 3, 3]),\n",
       " array([4, 2, 4, ..., 4, 2, 4])]"
      ]
     },
     "execution_count": 27,
     "metadata": {},
     "output_type": "execute_result"
    }
   ],
   "source": [
    "labs"
   ]
  },
  {
   "cell_type": "code",
   "execution_count": 215,
   "metadata": {},
   "outputs": [
    {
     "name": "stdout",
     "output_type": "stream",
     "text": [
      "(64,)\n",
      "(2357, 5)\n",
      "[0. 2. 2. 3. 2. 0. 0. 2. 2. 0. 3. 0. 0. 2. 0. 0. 0. 0. 0. 3. 0. 0. 3. 0.\n",
      " 3. 0. 3. 0. 4. 0. 3. 0. 1. 3. 0. 0. 2. 2. 0. 0. 0. 4. 0. 2. 0. 2. 0. 0.\n",
      " 0. 1. 0. 0. 2. 2. 3. 3. 3. 0. 2. 0. 2. 3. 0. 0.]\n"
     ]
    }
   ],
   "source": [
    "fig = make_model_diagrams(gbm_model.predict(dvalid, output_margin=True), y_valid, n_bins=25)\n",
    "plt.savefig('/home/kuszlewicz/Dropbox/Reliability_plot.pdf')\n",
    "plt.show()\n",
    "fig = make_model_diagrams(new_model.predict(dvalid), y_valid, n_bins=25)"
   ]
  },
  {
   "cell_type": "code",
   "execution_count": 92,
   "metadata": {},
   "outputs": [
    {
     "data": {
      "image/png": "[encoded data removed]",
      "text/plain": [
       "<Figure size 432x288 with 1 Axes>"
      ]
     },
     "metadata": {
      "needs_background": "light"
     },
     "output_type": "display_data"
    }
   ],
   "source": [
    "plt.hist(np.max(softmax(new_model.predict(dvalid), axis=1), axis=1), bins=100, histtype='step', density=True);\n",
    "plt.hist(np.max(gbm_model.predict(dvalid), axis=1), bins=100, histtype='step', density=True);"
   ]
  },
  {
   "cell_type": "code",
   "execution_count": null,
   "metadata": {},
   "outputs": [],
   "source": []
  }
 ],
 "metadata": {
  "kernelspec": {
   "display_name": "Python 3",
   "language": "python",
   "name": "python3"
  },
  "language_info": {
   "codemirror_mode": {
    "name": "ipython",
    "version": 3
   },
   "file_extension": ".py",
   "mimetype": "text/x-python",
   "name": "python",
   "nbconvert_exporter": "python",
   "pygments_lexer": "ipython3",
   "version": "3.7.6"
  }
 },
 "nbformat": 4,
 "nbformat_minor": 4
}
