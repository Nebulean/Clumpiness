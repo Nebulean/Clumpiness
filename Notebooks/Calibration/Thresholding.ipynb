{
 "cells": [
  {
   "cell_type": "code",
   "execution_count": 1,
   "metadata": {},
   "outputs": [],
   "source": [
    "%matplotlib inline"
   ]
  },
  {
   "cell_type": "code",
   "execution_count": 2,
   "metadata": {},
   "outputs": [
    {
     "name": "stderr",
     "output_type": "stream",
     "text": [
      "Using TensorFlow backend.\n"
     ]
    }
   ],
   "source": [
    "import pandas as pd\n",
    "import sys\n",
    "sys.path.append('../')\n",
    "# Scientific \n",
    "\n",
    "import numpy as np\n",
    "import random\n",
    "\n",
    "import Train\n",
    "from tqdm import tqdm\n",
    "import matplotlib.pyplot as plt\n",
    "\n",
    "# Machine learning\n",
    "\n",
    "import xgboost as xgb\n",
    "from sklearn.model_selection import train_test_split\n",
    "from sklearn.metrics import log_loss, accuracy_score, classification_report\n",
    "from keras.utils import to_categorical\n",
    "\n",
    "import temperature_scaling\n",
    "from scipy.special import softmax\n",
    "import xgboost"
   ]
  },
  {
   "cell_type": "code",
   "execution_count": 33,
   "metadata": {},
   "outputs": [
    {
     "name": "stdout",
     "output_type": "stream",
     "text": [
      "(393409, 17)\n",
      "['KIC', 'numax', 'var', 'zc', 'hoc', 'abs_k_mag']\n"
     ]
    },
    {
     "name": "stderr",
     "output_type": "stream",
     "text": [
      "/home/kuszi/.envs/venv/lib/python3.7/site-packages/xgboost/core.py:587: FutureWarning: Series.base is deprecated and will be removed in a future version\n",
      "  if getattr(data, 'base', None) is not None and \\\n",
      "/home/kuszi/.envs/venv/lib/python3.7/site-packages/xgboost/core.py:588: FutureWarning: Series.base is deprecated and will be removed in a future version\n",
      "  data.base is not None and isinstance(data, np.ndarray) \\\n"
     ]
    }
   ],
   "source": [
    "# Read in data wrt kic and fill etc.\n",
    "NDAYS = 27\n",
    "dataset = 'KIC'\n",
    "accounting_for_TESS = False #True\n",
    "df = pd.read_csv('../Colours_New_Gaps_output_data_noise_'+str(dataset)+'_'+str(NDAYS)+'_APOKASC.csv')\n",
    "bad_kics = [10403036, 9846355, 5004660, 4936438, 6450613, 10597648, 5395942]\n",
    "df = df[~df.KIC.isin(bad_kics)] \n",
    "print(np.shape(df))\n",
    "# Set up training class\n",
    "CLP = Train.Train(df, dataset, NDAYS)\n",
    "# Preprocess\n",
    "CLP.preprocess_data()\n",
    "# Set up data for training\n",
    "CLP.setup_for_training(features=['KIC', 'numax', 'var', 'zc', 'hoc', 'abs_k_mag'])\n",
    "\n",
    "# Extract the train and valid (used for validation) dataframes from the train_df\n",
    "train_features, valid_features, y_train, y_valid = CLP.X_train.drop(['KIC', 'numax'], axis=1), CLP.X_test.drop(['KIC', 'numax'], axis=1), CLP.Y_train, CLP.Y_test"
   ]
  },
  {
   "cell_type": "code",
   "execution_count": 34,
   "metadata": {},
   "outputs": [],
   "source": [
    "param_full = {'objective': 'multi:softprob',\n",
    "              'eval_metric': 'mlogloss',\n",
    "              'eta': 0.1,\n",
    "                'gamma': 7.5,\n",
    "                'max_depth': 3,\n",
    "                'min_child_weight': 4,\n",
    "                'subsample': 0.7,\n",
    "                'colsample': 0.7,\n",
    "                'silent': 1,\n",
    "                'nthread': 4,\n",
    "                'num_class': 5,\n",
    "                'seed': 0}\n",
    "param_180 = {'objective': 'multi:softprob',\n",
    "              'eval_metric': 'mlogloss',\n",
    "              'eta': 0.375,\n",
    "                'gamma': 7.5,\n",
    "                'max_depth': 6,\n",
    "                'min_child_weight': 1.0,\n",
    "                'subsample': 0.5,\n",
    "                'colsample': 0.5,\n",
    "                'silent': 1,\n",
    "                'nthread': 4,\n",
    "                'num_class': 5,\n",
    "                'seed': 0}\n",
    "\n",
    "param_80 = {'objective': 'multi:softprob',\n",
    "              'eval_metric': 'mlogloss',\n",
    "              'eta': 0.275,\n",
    "                'gamma': 7.5,\n",
    "                'max_depth': 10,\n",
    "                'min_child_weight': 2.0,\n",
    "                'subsample': 0.85,\n",
    "                'colsample': 0.85,\n",
    "                'silent': 1,\n",
    "                'nthread': 4,\n",
    "                'num_class': 5,\n",
    "                'seed': 0}\n",
    "\n",
    "param_27 = {'objective': 'multi:softprob',\n",
    "              'eval_metric': 'mlogloss',\n",
    "              'eta': 0.025,\n",
    "                'gamma': 7.5,\n",
    "                'max_depth': 8,\n",
    "                'min_child_weight': 3.0,\n",
    "                'subsample': 0.5,\n",
    "                'colsample': 0.85,\n",
    "                'silent': 1,\n",
    "                'nthread': 4,\n",
    "                'num_class': 5,\n",
    "                'seed': 0}"
   ]
  },
  {
   "cell_type": "code",
   "execution_count": 35,
   "metadata": {},
   "outputs": [
    {
     "name": "stdout",
     "output_type": "stream",
     "text": [
      "Best iter: 540.0\n"
     ]
    }
   ],
   "source": [
    "if NDAYS == -1:\n",
    "    param = param_full\n",
    "    title = '4 years'\n",
    "elif NDAYS == 180:\n",
    "    param = param_180\n",
    "    title = '180 days'\n",
    "elif NDAYS == 80:\n",
    "    param = param_80\n",
    "    title = '80 days'    \n",
    "elif NDAYS == 27:\n",
    "    param = param_27\n",
    "    title = '27 days'\n",
    "else:\n",
    "    sys.exit()\n",
    "bst = xgboost.Booster(param)\n",
    "#bst.load_model('../Clumpiness-package/Code/-1random.model')\n",
    "#bst.load_model('/mnt/seismo/scratch/seismo/kuszlewicz/Clumpiness-refactor/Code/'+str(NDAYS)+'.model')\n",
    "#best_iter = np.loadtxt('/mnt/seismo/scratch/seismo/kuszlewicz/Clumpiness-refactor/Code/best_iter_'+str(NDAYS)+'.txt')\n",
    "bst.load_model('../'+str(NDAYS)+'.model')\n",
    "best_iter = np.loadtxt('../best_iter_'+str(NDAYS)+'.txt')\n",
    "print(f\"Best iter: {best_iter}\")"
   ]
  },
  {
   "cell_type": "code",
   "execution_count": 36,
   "metadata": {},
   "outputs": [
    {
     "name": "stdout",
     "output_type": "stream",
     "text": [
      "    $\\log_{10}\\sigma^{2}$        zc  $\\psi^{2}$  $M_{K_{s}}$  \\\n",
      "55            1059.945783  0.037051    1.543675    -3.428712   \n",
      "56             912.874195  0.040885    1.691732    -3.404508   \n",
      "57             848.440049  0.044826    1.480001    -3.005549   \n",
      "58             980.103336  0.038769    1.598494    -3.411025   \n",
      "59             961.550072  0.050105    1.509057    -3.257199   \n",
      "\n",
      "    $\\log_{10}\\sigma^{2}_{\\mathrm{diff}}$  \n",
      "55                             111.415152  \n",
      "56                             114.293041  \n",
      "57                             109.221772  \n",
      "58                             109.939907  \n",
      "59                             111.305115  \n",
      "55        1\n",
      "56        1\n",
      "57        1\n",
      "58        1\n",
      "59        1\n",
      "         ..\n",
      "393755    4\n",
      "393756    4\n",
      "393757    4\n",
      "393758    4\n",
      "393759    4\n",
      "Name: evo, Length: 355454, dtype: int64\n",
      "(106637, 7) (106637,)\n",
      "(355454, 7)\n"
     ]
    }
   ],
   "source": [
    "if NDAYS == -1:\n",
    "    df['running_var'] = np.log10(np.abs(df['running_var']))\n",
    "    df = df[df['running_var'] < 2.5]\n",
    "df.sample(frac=1).reset_index(drop=True)\n",
    "\n",
    "predict_df = df[(df['ndata'] < ((180 * 86400.0)/(29.4*60))) | (df['evo'] == 6)]\n",
    "predict_df = predict_df[predict_df['fill'] > 0.5]\n",
    "if NDAYS == -1:\n",
    "    df = df[df['ndata'] > ((180 * 86400.0)/(29.4*60))]\n",
    "else:\n",
    "    df = df[df['ndata'] > (((NDAYS/2) * 86400.0)/(29.4*60))]\n",
    "\n",
    "df = df[df['fill'] > 0.5]\n",
    "df = df[df['evo'] < 5]\n",
    "#df = df.drop_duplicates('KIC')\n",
    "\n",
    "X = df[['KIC', 'numax', 'var', 'zc', 'hoc', 'abs_k_mag', 'mc']]\n",
    "#X['var'] = X['var']**2\n",
    "#X['mc'] = X['mc']**2\n",
    "#X = pd.read_csv('/mnt/seismo/scratch/seismo/kuszlewicz/Clumpiness-refactor/Code/random_feature_test.csv')\n",
    "X = X.rename(index=str, columns={\"var\": r\"$\\log_{10}\\sigma^{2}$\", \"mc\": r\"$\\log_{10}\\sigma^{2}_{\\mathrm{diff}}$\", \"hoc\": r\"$\\psi^{2}$\", \"abs_k_mag\": r\"$M_{K_{s}}$\"})\n",
    "#plt.hist(X.loc[X['y'] == 0,'rand'], bins=30, histtype='step', density=True);\n",
    "#plt.hist(X.loc[X['y'] == 1,'rand'], bins=30, histtype='step', density=True);\n",
    "#plt.hist(np.random.normal(size=len(X.loc[X['y'] == 1,'rand'])), bins=30, histtype='step', density=True);\n",
    "#plt.hist(X.loc[X['y'] == 2,'rand'], bins=30, histtype='step', density=True);\n",
    "#plt.hist(X.loc[X['y'] == 3,'rand'], bins=30, histtype='step', density=True);\n",
    "#plt.hist(X.loc[X['y'] == 4,'rand'], bins=30, histtype='step', density=True);\n",
    "#y = X['y'].astype(int)\n",
    "#X = X.drop(['y'], axis=1)\n",
    "print(X.drop(['KIC', 'numax'], axis=1).head())\n",
    "y = df['evo'].astype(int)\n",
    "print(y)\n",
    "X_train, X_test, Y_train, Y_test = train_test_split(X, y,\n",
    "                                                        test_size=0.3,\n",
    "                                                        stratify=y)\n",
    "print(np.shape(X_test),np.shape(Y_test))\n",
    "print(np.shape(X))"
   ]
  },
  {
   "cell_type": "code",
   "execution_count": 37,
   "metadata": {},
   "outputs": [],
   "source": [
    "xg_train = xgboost.DMatrix(X_train.drop(['KIC', 'numax'], axis=1))#, label=Y_train.values)\n",
    "xg_test = xgboost.DMatrix(X_test.drop(['KIC', 'numax'], axis=1))#, label=Y_test.values)\n",
    "probs_train = bst.predict(xg_train, ntree_limit=best_iter)\n",
    "probs_test = bst.predict(xg_test, ntree_limit=best_iter)"
   ]
  },
  {
   "cell_type": "code",
   "execution_count": 38,
   "metadata": {},
   "outputs": [],
   "source": [
    "full_preds = np.c_[probs_test[:,:3].sum(axis=1), probs_test[:,3:]]"
   ]
  },
  {
   "cell_type": "code",
   "execution_count": 39,
   "metadata": {},
   "outputs": [
    {
     "name": "stdout",
     "output_type": "stream",
     "text": [
      "Accuracy 0.9081932162382663\n",
      "Full accuracy 0.9223909149732269\n",
      "              precision    recall  f1-score   support\n",
      "\n",
      "           0       0.18      0.99      0.31      7738\n",
      "           1       0.00      0.00      0.00      6581\n",
      "           2       0.00      0.00      0.00     31772\n",
      "           3       0.00      0.00      0.00     32499\n",
      "           4       0.00      0.00      0.00     28047\n",
      "\n",
      "    accuracy                           0.07    106637\n",
      "   macro avg       0.04      0.20      0.06    106637\n",
      "weighted avg       0.01      0.07      0.02    106637\n",
      "\n"
     ]
    },
    {
     "name": "stderr",
     "output_type": "stream",
     "text": [
      "/home/kuszi/.envs/venv/lib/python3.7/site-packages/sklearn/metrics/_classification.py:1272: UndefinedMetricWarning: Precision and F-score are ill-defined and being set to 0.0 in labels with no predicted samples. Use `zero_division` parameter to control this behavior.\n",
      "  _warn_prf(average, modifier, msg_start, len(result))\n"
     ]
    },
    {
     "name": "stdout",
     "output_type": "stream",
     "text": [
      "              precision    recall  f1-score   support\n",
      "\n",
      "           0       0.95      0.86      0.91     46091\n",
      "           1       0.83      0.94      0.88     32499\n",
      "           2       0.99      0.99      0.99     28047\n",
      "\n",
      "    accuracy                           0.92    106637\n",
      "   macro avg       0.93      0.93      0.93    106637\n",
      "weighted avg       0.93      0.92      0.92    106637\n",
      "\n"
     ]
    }
   ],
   "source": [
    "#print(predictions)\n",
    "full_valid = CLP._create_full_class(Y_test)\n",
    "full_pred = CLP._create_full_class(np.argmax(probs_test, axis=1))\n",
    "# TODO: Add the importance for the selected features\n",
    "#print(\"Score {0}\".format(loss))\n",
    "print(\"Accuracy {}\".format(accuracy_score(Y_test, np.argmax(probs_test, axis=1))))\n",
    "print(\"Full accuracy {}\".format(accuracy_score(full_valid, full_pred)))\n",
    "print(classification_report(Y_test, np.argmax(full_preds, axis=1)))\n",
    "print(classification_report(full_valid, full_pred))"
   ]
  },
  {
   "cell_type": "code",
   "execution_count": 40,
   "metadata": {},
   "outputs": [],
   "source": [
    "from sklearn.preprocessing import label_binarize\n",
    "from sklearn.metrics import roc_curve, auc\n",
    "\n",
    "def find_nearest(array, value):\n",
    "    #https://stackoverflow.com/questions/2566412/find-nearest-value-in-numpy-array\n",
    "    array = np.asarray(array)\n",
    "    idx = (np.abs(array - value)).argmin()\n",
    "    return idx\n",
    "\n",
    "def compute_ROC(Y_test, yprob, class_names=None):\n",
    "    if class_names is None:\n",
    "        class_names = ['LLRGB', 'HLRGB', 'ConfRGB', 'CHeB', 'Noise']\n",
    "    colours = ['C'+str(i) for i in range(len(class_names))]\n",
    "    assert len(class_names) == np.shape(yprob)[1]\n",
    "    # Binarize Labels\n",
    "    y = label_binarize(Y_test, classes=np.linspace(0, len(class_names)-1, len(class_names)).astype(int))\n",
    "    # Compute auc/roc etc.\n",
    "    fpr = dict()\n",
    "    tpr = dict()\n",
    "    J = dict()\n",
    "    roc_auc = dict()\n",
    "    thresholds = dict()\n",
    "    n_classes = len(class_names)\n",
    "    for i in range(n_classes):\n",
    "        fpr[i], tpr[i], thresholds[i] = roc_curve(y[:,i], yprob[:,i])\n",
    "        J[i] = tpr[i] - fpr[i]\n",
    "        roc_auc[i] = auc(fpr[i], tpr[i])\n",
    "\n",
    "    #print(thresholds)\n",
    "    best_thresholds = []\n",
    "    for i in range(n_classes):\n",
    "        idx = np.argmax(J[i])\n",
    "        best_threshold = thresholds[i][idx]\n",
    "        print(f\"Best threshold for class {i}: {best_threshold} with J of {np.max(J[i])}\")\n",
    "        best_thresholds = np.append(best_thresholds, best_threshold)\n",
    "        plt.plot(fpr[i], tpr[i], lw=2, color=colours[i],\n",
    "        label=r'{} (AUC = {:0.3f})'.format(class_names[i], roc_auc[i]))\n",
    "        cond = find_nearest(thresholds[i], 1/3) #(abs(thresholds[i]-(1/3)) < 5e-3)\n",
    "        #print(fpr[i][cond], tpr[i][cond])\n",
    "        plt.scatter(fpr[i][idx], tpr[i][idx], marker='o', color=colours[i])\n",
    "        #plt.axvline(fpr[i][cond], color=colours[i], linestyle='--')\n",
    "        #break\n",
    "    plt.plot([0,1], [0,1], 'k--', lw=2)\n",
    "    plt.xlim(0.0, 1)\n",
    "    plt.ylim(0, 1.05)\n",
    "    plt.xlabel(r'False Positive Rate', fontsize=18)\n",
    "    plt.ylabel(r'True Positive Rate', fontsize=18)\n",
    "    plt.legend(loc='lower right')\n",
    "    return best_thresholds"
   ]
  },
  {
   "cell_type": "code",
   "execution_count": 41,
   "metadata": {},
   "outputs": [
    {
     "name": "stdout",
     "output_type": "stream",
     "text": [
      "Best threshold for class 0: 0.39078980684280396 with J of 0.8354921545719622\n",
      "Best threshold for class 1: 0.3033811151981354 with J of 0.8677041894235471\n",
      "Best threshold for class 2: 0.2866983413696289 with J of 0.9927361694639294\n",
      "(106637,)\n"
     ]
    },
    {
     "data": {
      "image/png": "[encoded data removed]",
      "text/plain": [
       "<Figure size 432x288 with 1 Axes>"
      ]
     },
     "metadata": {
      "needs_background": "light"
     },
     "output_type": "display_data"
    }
   ],
   "source": [
    "best_thresholds = compute_ROC(full_valid, full_preds, class_names=['RGB', 'CHeB', 'Noise'])\n",
    "print(np.shape(full_valid))\n",
    "plt.title(title, fontsize=18)\n",
    "plt.savefig('ROC_'+str(NDAYS)+'.pdf', bbox_inches='tight')"
   ]
  },
  {
   "cell_type": "code",
   "execution_count": 70,
   "metadata": {},
   "outputs": [],
   "source": [
    "# Recompute accuracy using those new thresholds\n",
    "#full_preds[full_preds[:,1] > best_1]\n",
    "new_pred = np.zeros(len(full_preds))+3\n",
    "for i in range(len(full_preds)):\n",
    "    idx, max_prob = np.argmax(full_preds[i,:]), np.max(full_preds[i,:])\n",
    "    if max_prob > best_thresholds[idx]:\n",
    "        new_pred[i] = int(idx)"
   ]
  },
  {
   "cell_type": "code",
   "execution_count": 71,
   "metadata": {},
   "outputs": [
    {
     "name": "stdout",
     "output_type": "stream",
     "text": [
      "New accuracy is 0.929612188365651\n",
      "Fraction of stars 'unclassified': 0\n"
     ]
    }
   ],
   "source": [
    "new_pred#, full_valid\n",
    "print(f\"New accuracy is {accuracy_score(new_pred[new_pred < 3], full_valid[new_pred < 3])}\")\n",
    "print(f\"Fraction of stars 'unclassified': {len(new_pred[new_pred == 3])}\")"
   ]
  },
  {
   "cell_type": "code",
   "execution_count": 30,
   "metadata": {},
   "outputs": [
    {
     "name": "stdout",
     "output_type": "stream",
     "text": [
      "Best threshold for class 0: 0.05274786800146103 with f-score of 0.91365171249397\n",
      "Best threshold for class 1: 0.01410063449293375 with f-score of 0.8929266709928617\n",
      "Best threshold for class 2: 0.008638545870780945 with f-score of 0.9929328621908127\n",
      "Average precision score, micro-averaged over all classes: 0.98\n"
     ]
    }
   ],
   "source": [
    "from sklearn.metrics import precision_recall_curve\n",
    "from sklearn.metrics import average_precision_score\n",
    "\n",
    "from sklearn.preprocessing import label_binarize\n",
    "# Use label_binarize to be multi-label like settings\n",
    "Y_test = label_binarize(full_valid, classes=[0, 1, 2])\n",
    "n_classes = Y_test.shape[1]\n",
    "\n",
    "# For each class\n",
    "precision = dict()\n",
    "recall = dict()\n",
    "average_precision = dict()\n",
    "thresholds = dict()\n",
    "fscore = dict()\n",
    "n_classes = 3\n",
    "for i in range(n_classes):\n",
    "    precision[i], recall[i], thresholds[i] = precision_recall_curve(Y_test[:, i],\n",
    "                                                        full_preds[:, i])\n",
    "    average_precision[i] = average_precision_score(Y_test[:, i], full_preds[:, i])\n",
    "    fscore[i] = (2 * precision[i] * recall[i]) / (precision[i] + recall[i])\n",
    "    ix = np.argmax(fscore)\n",
    "    best_threshold = thresholds[i][ix]\n",
    "    print(f\"Best threshold for class {i}: {best_threshold} with f-score of {np.max(fscore[i])}\")\n",
    "\n",
    "# A \"micro-average\": quantifying score on all classes jointly\n",
    "precision[\"micro\"], recall[\"micro\"], _ = precision_recall_curve(Y_test.ravel(),\n",
    "    full_preds.ravel())\n",
    "average_precision[\"micro\"] = average_precision_score(Y_test, full_preds,\n",
    "                                                     average=\"micro\")\n",
    "print('Average precision score, micro-averaged over all classes: {0:0.2f}'\n",
    "      .format(average_precision[\"micro\"]))"
   ]
  },
  {
   "cell_type": "code",
   "execution_count": 31,
   "metadata": {},
   "outputs": [
    {
     "data": {
      "text/plain": [
       "Text(0.5, 1.0, 'Average precision score, micro-averaged over all classes: AP=0.98')"
      ]
     },
     "execution_count": 31,
     "metadata": {},
     "output_type": "execute_result"
    },
    {
     "data": {
      "image/png": "[encoded data removed]",
      "text/plain": [
       "<Figure size 432x288 with 1 Axes>"
      ]
     },
     "metadata": {
      "needs_background": "light"
     },
     "output_type": "display_data"
    }
   ],
   "source": [
    "plt.step(recall['micro'], precision['micro'], where='post')\n",
    "\n",
    "plt.xlabel('Recall')\n",
    "plt.ylabel('Precision')\n",
    "plt.ylim([0.0, 1.05])\n",
    "plt.xlim([0.0, 1.0])\n",
    "plt.title(\n",
    "    'Average precision score, micro-averaged over all classes: AP={0:0.2f}'\n",
    "    .format(average_precision[\"micro\"]))"
   ]
  },
  {
   "cell_type": "code",
   "execution_count": 32,
   "metadata": {},
   "outputs": [
    {
     "data": {
      "image/png": "[encoded data removed]",
      "text/plain": [
       "<Figure size 432x288 with 1 Axes>"
      ]
     },
     "metadata": {
      "needs_background": "light"
     },
     "output_type": "display_data"
    }
   ],
   "source": [
    "from itertools import cycle\n",
    "# setup plot details\n",
    "#colors = cycle(['navy', 'turquoise', 'darkorange', 'cornflowerblue', 'teal'])\n",
    "colours = ['C0', 'C1', 'C2']\n",
    "class_names = ['RGB', 'CHeB', 'Noise']\n",
    "\n",
    "#plt.figure(figsize=(7, 8))\n",
    "f_scores = np.linspace(0.2, 0.8, num=4)\n",
    "lines = []\n",
    "labels = []\n",
    "#for f_score in f_scores:\n",
    "#    x = np.linspace(0.01, 1)\n",
    "#    y = f_score * x / (2 * x - f_score)\n",
    "#    l, = plt.plot(x[y >= 0], y[y >= 0], color='gray', alpha=0.2)\n",
    "#    plt.annotate('f1={0:0.1f}'.format(f_score), xy=(0.9, y[45] + 0.02))\n",
    "\n",
    "#lines.append(l)\n",
    "#labels.append('iso-f1 curves')\n",
    "#l, = plt.plot(recall[\"micro\"], precision[\"micro\"], color='gold', lw=2)\n",
    "#lines.append(l)\n",
    "#labels.append('micro-average Precision-recall (area = {0:0.2f})'\n",
    "#              ''.format(average_precision[\"micro\"]))\n",
    "for i in range(n_classes):\n",
    "    l, = plt.plot(recall[i], precision[i], color=colours[i], lw=2)\n",
    "    lines.append(l)\n",
    "    labels.append('Precision-recall: {0} (area = {1:0.2f})'\n",
    "                  ''.format(class_names[i], average_precision[i]))\n",
    "    idx = find_nearest(thresholds[i], 1/3)\n",
    "    plt.axvline(recall[i][idx], color=colours[i], linestyle='--')\n",
    "\n",
    "    \n",
    "#fig = plt.gcf()\n",
    "#fig.subplots_adjust(bottom=0.25)\n",
    "plt.xlim([0.0, 1.0])\n",
    "plt.ylim([0.0, 1.05])\n",
    "plt.xlabel(r'Recall', fontsize=18)\n",
    "plt.ylabel(r'Precision', fontsize=18)\n",
    "#plt.title('Extension of Precision-Recall curve to multi-class')\n",
    "plt.legend(lines, labels)#, loc=(0, -.38), prop=dict(size=14))\n",
    "\n",
    "\n",
    "plt.show()"
   ]
  },
  {
   "cell_type": "code",
   "execution_count": 33,
   "metadata": {},
   "outputs": [
    {
     "ename": "NameError",
     "evalue": "name 'pr' is not defined",
     "output_type": "error",
     "traceback": [
      "\u001b[0;31m---------------------------------------------------------------------------\u001b[0m",
      "\u001b[0;31mNameError\u001b[0m                                 Traceback (most recent call last)",
      "\u001b[0;32m<ipython-input-33-bc9473796a4b>\u001b[0m in \u001b[0;36m<module>\u001b[0;34m\u001b[0m\n\u001b[1;32m      1\u001b[0m \u001b[0mclass_names\u001b[0m \u001b[0;34m=\u001b[0m \u001b[0;34m[\u001b[0m\u001b[0;34m'RGB'\u001b[0m\u001b[0;34m,\u001b[0m \u001b[0;34m'CHeB'\u001b[0m\u001b[0;34m,\u001b[0m \u001b[0;34m'Noise'\u001b[0m\u001b[0;34m]\u001b[0m\u001b[0;34m\u001b[0m\u001b[0;34m\u001b[0m\u001b[0m\n\u001b[1;32m      2\u001b[0m \u001b[0;32mfor\u001b[0m \u001b[0mi\u001b[0m \u001b[0;32min\u001b[0m \u001b[0mrange\u001b[0m\u001b[0;34m(\u001b[0m\u001b[0mlen\u001b[0m\u001b[0;34m(\u001b[0m\u001b[0mclass_names\u001b[0m\u001b[0;34m)\u001b[0m\u001b[0;34m)\u001b[0m\u001b[0;34m:\u001b[0m\u001b[0;34m\u001b[0m\u001b[0;34m\u001b[0m\u001b[0m\n\u001b[0;32m----> 3\u001b[0;31m     \u001b[0mplt\u001b[0m\u001b[0;34m.\u001b[0m\u001b[0mplot\u001b[0m\u001b[0;34m(\u001b[0m\u001b[0mthresholds\u001b[0m\u001b[0;34m,\u001b[0m \u001b[0mpr\u001b[0m\u001b[0;34m[\u001b[0m\u001b[0;34m:\u001b[0m\u001b[0;34m,\u001b[0m\u001b[0mi\u001b[0m\u001b[0;34m]\u001b[0m\u001b[0;34m,\u001b[0m \u001b[0mlabel\u001b[0m\u001b[0;34m=\u001b[0m\u001b[0mclass_names\u001b[0m\u001b[0;34m[\u001b[0m\u001b[0mi\u001b[0m\u001b[0;34m]\u001b[0m\u001b[0;34m)\u001b[0m\u001b[0;34m\u001b[0m\u001b[0;34m\u001b[0m\u001b[0m\n\u001b[0m\u001b[1;32m      4\u001b[0m \u001b[0mplt\u001b[0m\u001b[0;34m.\u001b[0m\u001b[0mstep\u001b[0m\u001b[0;34m(\u001b[0m\u001b[0mthresholds\u001b[0m\u001b[0;34m,\u001b[0m \u001b[0mnsamples\u001b[0m\u001b[0;34m)\u001b[0m\u001b[0;34m\u001b[0m\u001b[0;34m\u001b[0m\u001b[0m\n\u001b[1;32m      5\u001b[0m \u001b[0mplt\u001b[0m\u001b[0;34m.\u001b[0m\u001b[0maxvline\u001b[0m\u001b[0;34m(\u001b[0m\u001b[0;36m1\u001b[0m\u001b[0;34m/\u001b[0m\u001b[0;36m3\u001b[0m\u001b[0;34m,\u001b[0m \u001b[0mcolor\u001b[0m\u001b[0;34m=\u001b[0m\u001b[0;34m'r'\u001b[0m\u001b[0;34m,\u001b[0m \u001b[0mlinestyle\u001b[0m\u001b[0;34m=\u001b[0m\u001b[0;34m'--'\u001b[0m\u001b[0;34m,\u001b[0m \u001b[0mlabel\u001b[0m\u001b[0;34m=\u001b[0m\u001b[0;34mr'$1/C$ decision threshold'\u001b[0m\u001b[0;34m)\u001b[0m\u001b[0;34m\u001b[0m\u001b[0;34m\u001b[0m\u001b[0m\n",
      "\u001b[0;31mNameError\u001b[0m: name 'pr' is not defined"
     ]
    }
   ],
   "source": [
    "class_names = ['RGB', 'CHeB', 'Noise']\n",
    "for i in range(len(class_names)):\n",
    "    plt.plot(thresholds, pr[:,i], label=class_names[i])\n",
    "plt.step(thresholds, nsamples)\n",
    "plt.axvline(1/3, color='r', linestyle='--', label=r'$1/C$ decision threshold')\n",
    "plt.xlabel(r'Decision Threshold')\n",
    "plt.ylabel('Precision')\n",
    "plt.xlim(0, 1)\n",
    "plt.ylim(0, 1.05)\n",
    "plt.legend(loc='best')\n",
    "#plt.savefig('Precision_'+str(NDAYS)+'.pdf', bbox_inches='tight')\n",
    "plt.show()\n",
    "for i in range(len(class_names)):\n",
    "    plt.plot(thresholds, rc[:,i], label=class_names[i])\n",
    "plt.axvline(1/3, color='r', linestyle='--', label=r'$1/C$ decision threshold')\n",
    "plt.xlabel(r'Decision Threshold')\n",
    "plt.ylabel('Recall')\n",
    "plt.xlim(0, 1)\n",
    "plt.ylim(0, 1.05)\n",
    "plt.legend(loc='best')\n",
    "#plt.savefig('Recall_'+str(NDAYS)+'.pdf', bbox_inches='tight')\n",
    "plt.show()\n",
    "colour = ['C0', 'C1', 'C2']\n",
    "for i in range(len(class_names)):\n",
    "    plt.plot(pr[:,i], rc[:,i], label=class_names[i])\n",
    "    idx = find_nearest(thresholds, 1/3)\n",
    "    plt.axvline(pr[:,i][idx], color=colour[i], linestyle='--')\n",
    "plt.xlabel(r'Precision')\n",
    "plt.ylabel('Recall')\n",
    "plt.xlim(0.6, 1)\n",
    "plt.ylim(0.7, 1)\n",
    "plt.legend(loc='best')\n",
    "#plt.savefig('Precision_Recall_'+str(NDAYS)+'.pdf', bbox_inches='tight')\n",
    "plt.show()\n",
    "for i in range(len(class_names)):\n",
    "    plt.plot(rc[:,i], pr[:,i], label=class_names[i])\n",
    "    idx = find_nearest(thresholds, 1/3)\n",
    "#    plt.axvline(pr[:-5,i][idx], color=colour[i], linestyle='--')\n",
    "plt.ylabel(r'Precision')\n",
    "plt.xlabel('Recall')\n",
    "plt.xlim(0.6, 1)\n",
    "plt.ylim(0.7, 1)\n",
    "plt.legend(loc='best')\n",
    "#plt.savefig('Precision_Recall_'+str(NDAYS)+'.pdf', bbox_inches='tight')\n",
    "plt.show()"
   ]
  },
  {
   "cell_type": "code",
   "execution_count": null,
   "metadata": {},
   "outputs": [],
   "source": []
  }
 ],
 "metadata": {
  "kernelspec": {
   "display_name": "Python 3",
   "language": "python",
   "name": "python3"
  },
  "language_info": {
   "codemirror_mode": {
    "name": "ipython",
    "version": 3
   },
   "file_extension": ".py",
   "mimetype": "text/x-python",
   "name": "python",
   "nbconvert_exporter": "python",
   "pygments_lexer": "ipython3",
   "version": "3.7.6"
  }
 },
 "nbformat": 4,
 "nbformat_minor": 4
}
