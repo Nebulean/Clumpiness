{
 "cells": [
  {
   "cell_type": "code",
   "execution_count": 1,
   "metadata": {},
   "outputs": [],
   "source": [
    "%matplotlib inline"
   ]
  },
  {
   "cell_type": "code",
   "execution_count": 2,
   "metadata": {},
   "outputs": [
    {
     "name": "stderr",
     "output_type": "stream",
     "text": [
      "Using TensorFlow backend.\n"
     ]
    }
   ],
   "source": [
    "import pandas as pd\n",
    "import sys\n",
    "sys.path.append('../')\n",
    "# Scientific \n",
    "\n",
    "import numpy as np\n",
    "import random\n",
    "\n",
    "import Train\n",
    "from tqdm import tqdm\n",
    "import matplotlib.pyplot as plt\n",
    "\n",
    "# Machine learning\n",
    "\n",
    "import xgboost as xgb\n",
    "from sklearn.model_selection import train_test_split\n",
    "from sklearn.metrics import log_loss, accuracy_score, classification_report\n",
    "from keras.utils import to_categorical\n",
    "\n",
    "import temperature_scaling\n",
    "from scipy.special import softmax\n",
    "import xgboost"
   ]
  },
  {
   "cell_type": "code",
   "execution_count": 3,
   "metadata": {},
   "outputs": [
    {
     "name": "stdout",
     "output_type": "stream",
     "text": [
      "(8553, 17)\n",
      "['KIC', 'numax', 'var', 'zc', 'hoc', 'abs_k_mag']\n"
     ]
    },
    {
     "name": "stderr",
     "output_type": "stream",
     "text": [
      "/home/kuszi/.envs/venv/lib/python3.7/site-packages/pandas/core/series.py:856: RuntimeWarning: divide by zero encountered in log10\n",
      "  result = getattr(ufunc, method)(*inputs, **kwargs)\n",
      "../Train.py:70: SettingWithCopyWarning: \n",
      "A value is trying to be set on a copy of a slice from a DataFrame.\n",
      "Try using .loc[row_indexer,col_indexer] = value instead\n",
      "\n",
      "See the caveats in the documentation: http://pandas.pydata.org/pandas-docs/stable/user_guide/indexing.html#returning-a-view-versus-a-copy\n",
      "  self.df['KIC'] = self.df['KIC'].astype(int)\n",
      "/home/kuszi/.envs/venv/lib/python3.7/site-packages/pandas/core/indexing.py:494: SettingWithCopyWarning: \n",
      "A value is trying to be set on a copy of a slice from a DataFrame.\n",
      "Try using .loc[row_indexer,col_indexer] = value instead\n",
      "\n",
      "See the caveats in the documentation: http://pandas.pydata.org/pandas-docs/stable/user_guide/indexing.html#returning-a-view-versus-a-copy\n",
      "  self.obj[item] = s\n",
      "/home/kuszi/.envs/venv/lib/python3.7/site-packages/xgboost/core.py:587: FutureWarning: Series.base is deprecated and will be removed in a future version\n",
      "  if getattr(data, 'base', None) is not None and \\\n"
     ]
    }
   ],
   "source": [
    "# Read in data wrt kic and fill etc.\n",
    "NDAYS = -1\n",
    "dataset = 'KIC'\n",
    "accounting_for_TESS = False #True\n",
    "df = pd.read_csv('../Colours_New_Gaps_output_data_noise_'+str(dataset)+'_'+str(NDAYS)+'_APOKASC.csv')\n",
    "bad_kics = [10403036, 9846355, 5004660, 4936438, 6450613, 10597648, 5395942]\n",
    "df = df[~df.KIC.isin(bad_kics)] \n",
    "print(np.shape(df))\n",
    "# Set up training class\n",
    "CLP = Train.Train(df, dataset, NDAYS)\n",
    "# Preprocess\n",
    "CLP.preprocess_data()\n",
    "# Set up data for training\n",
    "CLP.setup_for_training(features=['KIC', 'numax', 'var', 'zc', 'hoc', 'abs_k_mag'])\n",
    "\n",
    "# Extract the train and valid (used for validation) dataframes from the train_df\n",
    "train_features, valid_features, y_train, y_valid = CLP.X_train.drop(['KIC', 'numax'], axis=1), CLP.X_test.drop(['KIC', 'numax'], axis=1), CLP.Y_train, CLP.Y_test"
   ]
  },
  {
   "cell_type": "code",
   "execution_count": 4,
   "metadata": {},
   "outputs": [],
   "source": [
    "param_full = {'objective': 'multi:softprob',\n",
    "              'eval_metric': 'mlogloss',\n",
    "              'eta': 0.1,\n",
    "                'gamma': 7.5,\n",
    "                'max_depth': 3,\n",
    "                'min_child_weight': 4,\n",
    "                'subsample': 0.7,\n",
    "                'colsample': 0.7,\n",
    "                'silent': 1,\n",
    "                'nthread': 4,\n",
    "                'num_class': 5,\n",
    "                'seed': 0}\n",
    "param_180 = {'objective': 'multi:softprob',\n",
    "              'eval_metric': 'mlogloss',\n",
    "              'eta': 0.375,\n",
    "                'gamma': 7.5,\n",
    "                'max_depth': 6,\n",
    "                'min_child_weight': 1.0,\n",
    "                'subsample': 0.5,\n",
    "                'colsample': 0.5,\n",
    "                'silent': 1,\n",
    "                'nthread': 4,\n",
    "                'num_class': 5,\n",
    "                'seed': 0}\n",
    "\n",
    "param_80 = {'objective': 'multi:softprob',\n",
    "              'eval_metric': 'mlogloss',\n",
    "              'eta': 0.275,\n",
    "                'gamma': 7.5,\n",
    "                'max_depth': 10,\n",
    "                'min_child_weight': 2.0,\n",
    "                'subsample': 0.85,\n",
    "                'colsample': 0.85,\n",
    "                'silent': 1,\n",
    "                'nthread': 4,\n",
    "                'num_class': 5,\n",
    "                'seed': 0}\n",
    "\n",
    "param_27 = {'objective': 'multi:softprob',\n",
    "              'eval_metric': 'mlogloss',\n",
    "              'eta': 0.025,\n",
    "                'gamma': 7.5,\n",
    "                'max_depth': 8,\n",
    "                'min_child_weight': 3.0,\n",
    "                'subsample': 0.5,\n",
    "                'colsample': 0.85,\n",
    "                'silent': 1,\n",
    "                'nthread': 4,\n",
    "                'num_class': 5,\n",
    "                'seed': 0}"
   ]
  },
  {
   "cell_type": "code",
   "execution_count": 5,
   "metadata": {},
   "outputs": [
    {
     "name": "stdout",
     "output_type": "stream",
     "text": [
      "Best iter: 962.0\n"
     ]
    }
   ],
   "source": [
    "if NDAYS == -1:\n",
    "    param = param_full\n",
    "elif NDAYS == 180:\n",
    "    param = param_180\n",
    "elif NDAYS == 80:\n",
    "    param = param_80\n",
    "elif NDAYS == 27:\n",
    "    param = param_27\n",
    "else:\n",
    "    sys.exit()\n",
    "bst = xgboost.Booster(param)\n",
    "#bst.load_model('../Clumpiness-package/Code/-1random.model')\n",
    "#bst.load_model('/mnt/seismo/scratch/seismo/kuszlewicz/Clumpiness-refactor/Code/'+str(NDAYS)+'.model')\n",
    "#best_iter = np.loadtxt('/mnt/seismo/scratch/seismo/kuszlewicz/Clumpiness-refactor/Code/best_iter_'+str(NDAYS)+'.txt')\n",
    "bst.load_model('../'+str(NDAYS)+'.model')\n",
    "best_iter = np.loadtxt('../best_iter_'+str(NDAYS)+'.txt')\n",
    "print(f\"Best iter: {best_iter}\")"
   ]
  },
  {
   "cell_type": "code",
   "execution_count": 6,
   "metadata": {},
   "outputs": [
    {
     "name": "stdout",
     "output_type": "stream",
     "text": [
      "   $\\log_{10}\\sigma^{2}$        zc  $\\psi^{2}$  $M_{K_{s}}$  \\\n",
      "1            1200.383678  0.032072    1.642052    -3.344805   \n",
      "2             275.733887  0.189737    0.623509    -1.072591   \n",
      "3             553.109516  0.069209    1.826779    -1.776589   \n",
      "5             396.901835  0.122893    0.924548    -1.838557   \n",
      "6             455.093275  0.090319    1.530439    -1.601088   \n",
      "\n",
      "   $\\log_{10}\\sigma^{2}_{\\mathrm{diff}}$  \n",
      "1                             110.811879  \n",
      "2                             157.945677  \n",
      "3                             117.419228  \n",
      "5                             154.485027  \n",
      "6                             123.982521  \n",
      "1       1\n",
      "2       2\n",
      "3       3\n",
      "5       3\n",
      "6       3\n",
      "       ..\n",
      "8555    4\n",
      "8556    4\n",
      "8557    4\n",
      "8558    4\n",
      "8559    4\n",
      "Name: evo, Length: 7808, dtype: int64\n",
      "(2343, 7) (2343,)\n",
      "(7808, 7)\n"
     ]
    }
   ],
   "source": [
    "if NDAYS == -1:\n",
    "    df['running_var'] = np.log10(np.abs(df['running_var']))\n",
    "    df = df[df['running_var'] < 2.5]\n",
    "df.sample(frac=1).reset_index(drop=True)\n",
    "\n",
    "predict_df = df[(df['ndata'] < ((180 * 86400.0)/(29.4*60))) | (df['evo'] == 6)]\n",
    "predict_df = predict_df[predict_df['fill'] > 0.5]\n",
    "if NDAYS == -1:\n",
    "    df = df[df['ndata'] > ((180 * 86400.0)/(29.4*60))]\n",
    "else:\n",
    "    df = df[df['ndata'] > (((NDAYS/2) * 86400.0)/(29.4*60))]\n",
    "\n",
    "df = df[df['fill'] > 0.5]\n",
    "df = df[df['evo'] < 5]\n",
    "#df = df.drop_duplicates('KIC')\n",
    "\n",
    "X = df[['KIC', 'numax', 'var', 'zc', 'hoc', 'abs_k_mag', 'mc']]\n",
    "#X['var'] = X['var']**2\n",
    "#X['mc'] = X['mc']**2\n",
    "#X = pd.read_csv('/mnt/seismo/scratch/seismo/kuszlewicz/Clumpiness-refactor/Code/random_feature_test.csv')\n",
    "X = X.rename(index=str, columns={\"var\": r\"$\\log_{10}\\sigma^{2}$\", \"mc\": r\"$\\log_{10}\\sigma^{2}_{\\mathrm{diff}}$\", \"hoc\": r\"$\\psi^{2}$\", \"abs_k_mag\": r\"$M_{K_{s}}$\"})\n",
    "#plt.hist(X.loc[X['y'] == 0,'rand'], bins=30, histtype='step', density=True);\n",
    "#plt.hist(X.loc[X['y'] == 1,'rand'], bins=30, histtype='step', density=True);\n",
    "#plt.hist(np.random.normal(size=len(X.loc[X['y'] == 1,'rand'])), bins=30, histtype='step', density=True);\n",
    "#plt.hist(X.loc[X['y'] == 2,'rand'], bins=30, histtype='step', density=True);\n",
    "#plt.hist(X.loc[X['y'] == 3,'rand'], bins=30, histtype='step', density=True);\n",
    "#plt.hist(X.loc[X['y'] == 4,'rand'], bins=30, histtype='step', density=True);\n",
    "#y = X['y'].astype(int)\n",
    "#X = X.drop(['y'], axis=1)\n",
    "print(X.drop(['KIC', 'numax'], axis=1).head())\n",
    "y = df['evo'].astype(int)\n",
    "print(y)\n",
    "X_train, X_test, Y_train, Y_test = train_test_split(X, y,\n",
    "                                                        test_size=0.3,\n",
    "                                                        stratify=y)\n",
    "print(np.shape(X_test),np.shape(Y_test))\n",
    "print(np.shape(X))"
   ]
  },
  {
   "cell_type": "code",
   "execution_count": 13,
   "metadata": {},
   "outputs": [],
   "source": [
    "xg_train = xgboost.DMatrix(X_train.drop(['KIC', 'numax'], axis=1))#, label=Y_train.values)\n",
    "xg_test = xgboost.DMatrix(X_test.drop(['KIC', 'numax'], axis=1))#, label=Y_test.values)\n",
    "probs_train = bst.predict(xg_train, ntree_limit=best_iter)\n",
    "probs_test = bst.predict(xg_test, ntree_limit=best_iter)"
   ]
  },
  {
   "cell_type": "code",
   "execution_count": 14,
   "metadata": {},
   "outputs": [],
   "source": [
    "full_preds = np.c_[probs_test[:,:3].sum(axis=1), probs_test[:,3:]]"
   ]
  },
  {
   "cell_type": "code",
   "execution_count": 16,
   "metadata": {},
   "outputs": [
    {
     "name": "stdout",
     "output_type": "stream",
     "text": [
      "Accuracy 0.9159197609901836\n",
      "Full accuracy 0.9265898420827998\n",
      "              precision    recall  f1-score   support\n",
      "\n",
      "           0       0.16      0.98      0.27       152\n",
      "           1       0.00      0.01      0.00       160\n",
      "           2       0.00      0.00      0.00       737\n",
      "           3       0.00      0.00      0.00       727\n",
      "           4       0.00      0.00      0.00       567\n",
      "\n",
      "    accuracy                           0.06      2343\n",
      "   macro avg       0.03      0.20      0.05      2343\n",
      "weighted avg       0.01      0.06      0.02      2343\n",
      "\n",
      "              precision    recall  f1-score   support\n",
      "\n",
      "           0       0.96      0.87      0.91      1049\n",
      "           1       0.84      0.96      0.90       727\n",
      "           2       0.99      0.99      0.99       567\n",
      "\n",
      "    accuracy                           0.93      2343\n",
      "   macro avg       0.93      0.94      0.93      2343\n",
      "weighted avg       0.93      0.93      0.93      2343\n",
      "\n"
     ]
    }
   ],
   "source": [
    "#print(predictions)\n",
    "full_valid = CLP._create_full_class(Y_test)\n",
    "full_pred = CLP._create_full_class(np.argmax(probs_test, axis=1))\n",
    "# TODO: Add the importance for the selected features\n",
    "#print(\"Score {0}\".format(loss))\n",
    "print(\"Accuracy {}\".format(accuracy_score(Y_test, np.argmax(probs_test, axis=1))))\n",
    "print(\"Full accuracy {}\".format(accuracy_score(full_valid, full_pred)))\n",
    "print(classification_report(Y_test, np.argmax(full_preds, axis=1)))\n",
    "print(classification_report(full_valid, full_pred))"
   ]
  },
  {
   "cell_type": "code",
   "execution_count": 17,
   "metadata": {},
   "outputs": [],
   "source": [
    "def make_model_diagrams(outputs, labels, n_bins=10):\n",
    "    \"\"\"\n",
    "    outputs - a torch tensor (size n x num_classes) with the outputs from the final linear layer\n",
    "    - NOT the softmaxes\n",
    "    labels - a torch tensor (size n) with the labels\n",
    "    \"\"\"\n",
    "    softmaxes = softmax(outputs, axis=1)\n",
    "    confidences, predictions = np.max(softmaxes, axis=1), np.argmax(softmaxes, axis=1)\n",
    "    #labels = to_categorical(labels.values)\n",
    "    accuracies = (predictions == labels.values) * 1    \n",
    "    #print(accuracies)\n",
    "    # Reliability diagram\n",
    "    bins = np.linspace(0, 1., n_bins + 1)\n",
    "    #bins[-1] = 1.0001\n",
    "    width = bins[1] - bins[0]\n",
    "    #bin_indices = [confidences.ge(bin_lower) * confidences.lt(bin_upper) for bin_lower, bin_upper in zip(bins[:-1], bins[1:])]\n",
    "    bin_indices = [((confidences > bin_lower) & (confidences < bin_upper)) for bin_lower, bin_upper in zip(bins[:-1], bins[1:])]\n",
    "    label_bins = [labels.values[bin_index] for bin_index in bin_indices]\n",
    "    bin_corrects = np.array([np.mean(accuracies[bin_index]) for bin_index in bin_indices])\n",
    "    bin_scores = np.array([np.mean(confidences[bin_index]) for bin_index in bin_indices])\n",
    "    #print(label_bins)\n",
    "    #print(bin_corrects)\n",
    "    #print(bins[:-1][np.nanargmax(bin_corrects)])\n",
    "    confs = plt.bar(bins[:-1], bin_corrects, width=width, edgecolor='k', align='edge')\n",
    "    gaps = plt.bar(bins[:-1], (bin_scores - bin_corrects), bottom=bin_corrects, align='edge', color=[1, 0.7, 0.7], alpha=0.5, width=width, hatch='//', edgecolor='r')\n",
    "    plt.plot([0, 1], [0, 1], '--', color='gray')\n",
    "    #plt.legend([confs, gaps], ['Outputs', 'Gap'], loc='best', fontsize='small')\n",
    "    plt.xlim(0, 1)\n",
    "    # Clean up\n",
    "    plt.ylabel(r'Accuracy', fontsize=18)\n",
    "    plt.xlabel(r'Confidence', fontsize=18)\n",
    "    return bins[:-1], label_bins, bin_corrects"
   ]
  },
  {
   "cell_type": "code",
   "execution_count": 18,
   "metadata": {},
   "outputs": [
    {
     "name": "stderr",
     "output_type": "stream",
     "text": [
      "/home/kuszi/.envs/venv/lib/python3.7/site-packages/numpy/core/fromnumeric.py:3335: RuntimeWarning: Mean of empty slice.\n",
      "  out=out, **kwargs)\n",
      "/home/kuszi/.envs/venv/lib/python3.7/site-packages/numpy/core/_methods.py:161: RuntimeWarning: invalid value encountered in double_scalars\n",
      "  ret = ret.dtype.type(ret / rcount)\n",
      "/home/kuszi/.envs/venv/lib/python3.7/site-packages/numpy/core/_methods.py:161: RuntimeWarning: invalid value encountered in true_divide\n",
      "  ret = ret.dtype.type(ret / rcount)\n"
     ]
    },
    {
     "data": {
      "image/png": "[encoded data removed]",
      "text/plain": [
       "<Figure size 432x288 with 1 Axes>"
      ]
     },
     "metadata": {
      "needs_background": "light"
     },
     "output_type": "display_data"
    },
    {
     "ename": "NameError",
     "evalue": "name 'new_model' is not defined",
     "output_type": "error",
     "traceback": [
      "\u001b[0;31m---------------------------------------------------------------------------\u001b[0m",
      "\u001b[0;31mNameError\u001b[0m                                 Traceback (most recent call last)",
      "\u001b[0;32m<ipython-input-18-ba2be2b93cee>\u001b[0m in \u001b[0;36m<module>\u001b[0;34m\u001b[0m\n\u001b[1;32m      3\u001b[0m \u001b[0;31m#plt.savefig('Reliability_plot_'+str(NDAYS)+'.pdf')\u001b[0m\u001b[0;34m\u001b[0m\u001b[0;34m\u001b[0m\u001b[0;34m\u001b[0m\u001b[0m\n\u001b[1;32m      4\u001b[0m \u001b[0mplt\u001b[0m\u001b[0;34m.\u001b[0m\u001b[0mshow\u001b[0m\u001b[0;34m(\u001b[0m\u001b[0;34m)\u001b[0m\u001b[0;34m\u001b[0m\u001b[0;34m\u001b[0m\u001b[0m\n\u001b[0;32m----> 5\u001b[0;31m \u001b[0mbins2\u001b[0m\u001b[0;34m,\u001b[0m \u001b[0mlabs2\u001b[0m\u001b[0;34m,\u001b[0m \u001b[0mcorr2\u001b[0m \u001b[0;34m=\u001b[0m \u001b[0mmake_model_diagrams\u001b[0m\u001b[0;34m(\u001b[0m\u001b[0mnew_model\u001b[0m\u001b[0;34m.\u001b[0m\u001b[0mpredict\u001b[0m\u001b[0;34m(\u001b[0m\u001b[0mxg_test\u001b[0m\u001b[0;34m)\u001b[0m\u001b[0;34m,\u001b[0m \u001b[0mY_test\u001b[0m\u001b[0;34m,\u001b[0m \u001b[0mn_bins\u001b[0m\u001b[0;34m=\u001b[0m\u001b[0;36m15\u001b[0m\u001b[0;34m)\u001b[0m\u001b[0;34m\u001b[0m\u001b[0;34m\u001b[0m\u001b[0m\n\u001b[0m\u001b[1;32m      6\u001b[0m \u001b[0;31m#plt.savefig('Reliability_plot_corr_'+str(NDAYS)+'.pdf')\u001b[0m\u001b[0;34m\u001b[0m\u001b[0;34m\u001b[0m\u001b[0;34m\u001b[0m\u001b[0m\n",
      "\u001b[0;31mNameError\u001b[0m: name 'new_model' is not defined"
     ]
    }
   ],
   "source": [
    "#fig = plt.figure(figsize=(8, 6))\n",
    "bins, labs, corr = make_model_diagrams(bst.predict(xg_test, output_margin=True), Y_test, n_bins=15)\n",
    "#plt.savefig('Reliability_plot_'+str(NDAYS)+'.pdf')\n",
    "plt.show()\n",
    "bins2, labs2, corr2 = make_model_diagrams(new_model.predict(xg_test), Y_test, n_bins=15)\n",
    "#plt.savefig('Reliability_plot_corr_'+str(NDAYS)+'.pdf')\n"
   ]
  },
  {
   "cell_type": "code",
   "execution_count": 16,
   "metadata": {},
   "outputs": [],
   "source": [
    "#list(zip(corr, bins, labs))"
   ]
  },
  {
   "cell_type": "code",
   "execution_count": 17,
   "metadata": {},
   "outputs": [],
   "source": [
    "#fig = make_model_diagrams(gbm_model.predict(dvalid, output_margin=True), y_valid, n_bins=25)\n",
    "#plt.savefig('/home/kuszlewicz/Dropbox/Reliability_plot.pdf')\n",
    "#plt.show()\n",
    "#fig = make_model_diagrams(new_model.predict(dvalid), y_valid, n_bins=25)"
   ]
  },
  {
   "cell_type": "code",
   "execution_count": 18,
   "metadata": {},
   "outputs": [],
   "source": [
    "#plt.hist(np.max(softmax(new_model.predict(dvalid), axis=1), axis=1), bins=100, histtype='step', density=True);\n",
    "#plt.hist(np.max(gbm_model.predict(dvalid), axis=1), bins=100, histtype='step', density=True);"
   ]
  },
  {
   "cell_type": "code",
   "execution_count": 19,
   "metadata": {},
   "outputs": [],
   "source": [
    "def lorentzian(f, a, b):\n",
    "    zeta = 2 * np.sqrt(2) / np.pi\n",
    "    return (zeta * a**2 / b) / (1 + (f/b)**4)\n",
    "\n",
    "def granulation(f, numax):\n",
    "    a = 3382 * numax ** -0.609\n",
    "    b1 = 0.317 * numax ** 0.970\n",
    "    b2 = 0.948 * numax ** 0.992\n",
    "    \n",
    "    model = lorentzian(f, a, b1) + lorentzian(f, a, b2)\n",
    "    integrated_power = np.sum(model) * (f[1]-f[0])\n",
    "    return integrated_power\n",
    "    \n",
    "def gaussian(f, numax):\n",
    "    denv = 0.66 * numax ** 0.88\n",
    "    sigma = denv / (2 * np.sqrt(2*np.log(2)))\n",
    "    Henv = 2.03e7 * numax**-2.38\n",
    "    model = Henv * np.exp(-(f-numax)**2 / (2*sigma**2))\n",
    "    return np.sum(model)*(f[1]-f[0])"
   ]
  },
  {
   "cell_type": "code",
   "execution_count": 20,
   "metadata": {},
   "outputs": [],
   "source": [
    "f = np.linspace(0, 283.4, 32000)\n",
    "numax = np.linspace(1, 300, 1000)"
   ]
  },
  {
   "cell_type": "code",
   "execution_count": 21,
   "metadata": {},
   "outputs": [],
   "source": [
    "int_gran = np.zeros_like(numax)\n",
    "int_osc = np.zeros_like(numax)\n",
    "for i in range(len(numax)):\n",
    "    int_gran[i] = granulation(f, numax[i])\n",
    "    int_osc[i] = gaussian(f, numax[i])"
   ]
  },
  {
   "cell_type": "code",
   "execution_count": 22,
   "metadata": {},
   "outputs": [
    {
     "data": {
      "text/plain": [
       "[<matplotlib.lines.Line2D at 0x7fd91e1f1a50>]"
      ]
     },
     "execution_count": 22,
     "metadata": {},
     "output_type": "execute_result"
    },
    {
     "data": {
      "image/png": "[encoded data removed]",
      "text/plain": [
       "<Figure size 432x288 with 1 Axes>"
      ]
     },
     "metadata": {
      "needs_background": "light"
     },
     "output_type": "display_data"
    }
   ],
   "source": [
    "plt.plot(numax, int_gran/(int_osc + int_gran) * 100)"
   ]
  },
  {
   "cell_type": "code",
   "execution_count": 23,
   "metadata": {},
   "outputs": [],
   "source": [
    "zc_gauss = np.array([ 0.49912 ,  0.666367,  0.732079,  0.769869,  0.795083,  0.81284 ,\n",
    "        0.827098,  0.838291,  0.847576,  0.855565,  0.862341,  0.868062,\n",
    "        0.873031,  0.877556,  0.881678])"
   ]
  },
  {
   "cell_type": "code",
   "execution_count": 24,
   "metadata": {},
   "outputs": [
    {
     "name": "stdout",
     "output_type": "stream",
     "text": [
      "0.16724700000000003\n",
      "0.06571199999999999\n",
      "0.03778999999999999\n",
      "0.02521399999999996\n",
      "0.017757000000000023\n",
      "0.014257999999999993\n",
      "0.011193000000000008\n",
      "0.009284999999999988\n",
      "0.007989000000000024\n",
      "0.006776000000000004\n",
      "0.005720999999999976\n",
      "0.004969000000000001\n",
      "0.004525000000000001\n",
      "0.004121999999999959\n"
     ]
    }
   ],
   "source": [
    "for i in range(len(zc_gauss)-1):\n",
    "    print(zc_gauss[i+1]-zc_gauss[i])"
   ]
  },
  {
   "cell_type": "code",
   "execution_count": 69,
   "metadata": {},
   "outputs": [],
   "source": [
    "from sklearn.preprocessing import label_binarize\n",
    "from sklearn.metrics import roc_curve, auc\n",
    "\n",
    "def find_nearest(array, value):\n",
    "    #https://stackoverflow.com/questions/2566412/find-nearest-value-in-numpy-array\n",
    "    array = np.asarray(array)\n",
    "    idx = (np.abs(array - value)).argmin()\n",
    "    return idx\n",
    "\n",
    "def compute_ROC(Y_test, yprob, class_names=None):\n",
    "    if class_names is None:\n",
    "        class_names = ['LLRGB', 'HLRGB', 'ConfRGB', 'CHeB', 'Noise']\n",
    "    colours = ['C'+str(i) for i in range(len(class_names))]\n",
    "    assert len(class_names) == np.shape(yprob)[1]\n",
    "    # Binarize Labels\n",
    "    y = label_binarize(Y_test, classes=np.linspace(0, len(class_names)-1, len(class_names)).astype(int))\n",
    "    # Compute auc/roc etc.\n",
    "    fpr = dict()\n",
    "    tpr = dict()\n",
    "    J = dict()\n",
    "    roc_auc = dict()\n",
    "    thresholds = dict()\n",
    "    n_classes = len(class_names)\n",
    "    for i in range(n_classes):\n",
    "        fpr[i], tpr[i], thresholds[i] = roc_curve(y[:,i], yprob[:,i])\n",
    "        J[i] = tpr[i] - fpr[i]\n",
    "        roc_auc[i] = auc(fpr[i], tpr[i])\n",
    "\n",
    "    #print(thresholds)\n",
    "    for i in range(n_classes):\n",
    "        idx = np.argmax(J[i])\n",
    "        best_threshold = thresholds[i][idx]\n",
    "        print(f\"Best threshold for class {i}: {best_threshold} with J of {np.max(J[i])}\")\n",
    "        plt.plot(fpr[i], tpr[i], lw=2, color=colours[i],\n",
    "        label=r'ROC curve of class {} (area = {:0.3f})'.format(class_names[i], roc_auc[i]))\n",
    "        cond = find_nearest(thresholds[i], 1/3) #(abs(thresholds[i]-(1/3)) < 5e-3)\n",
    "        #print(fpr[i][cond], tpr[i][cond])\n",
    "        plt.scatter(fpr[i][idx], tpr[i][idx], marker='o', color=colours[i])\n",
    "        #plt.axvline(fpr[i][cond], color=colours[i], linestyle='--')\n",
    "        #break\n",
    "    plt.plot([0,1], [0,1], 'k--', lw=2)\n",
    "    plt.xlim(0.0, 1)\n",
    "    plt.ylim(0, 1.05)\n",
    "    plt.xlabel(r'False Positive Rate', fontsize=18)\n",
    "    plt.ylabel(r'True Positive Rate', fontsize=18)\n",
    "    plt.legend(loc='lower right')\n",
    "    "
   ]
  },
  {
   "cell_type": "code",
   "execution_count": 70,
   "metadata": {},
   "outputs": [
    {
     "name": "stdout",
     "output_type": "stream",
     "text": [
      "Best threshold for class 0: 0.4598701596260071 with J of 0.8506489583809118\n",
      "Best threshold for class 1: 0.5044034719467163 with J of 0.8758809770248002\n",
      "Best threshold for class 2: 0.2469554841518402 with J of 0.9895669479002812\n",
      "(2343,)\n"
     ]
    },
    {
     "data": {
      "image/png": "[encoded data removed]",
      "text/plain": [
       "<Figure size 432x288 with 1 Axes>"
      ]
     },
     "metadata": {
      "needs_background": "light"
     },
     "output_type": "display_data"
    }
   ],
   "source": [
    "compute_ROC(full_valid, full_preds, class_names=['RGB', 'CHeB', 'Noise'])\n",
    "print(np.shape(full_valid))"
   ]
  },
  {
   "cell_type": "code",
   "execution_count": 66,
   "metadata": {},
   "outputs": [],
   "source": [
    "# Recompute accuracy using those new thresholds\n",
    "best_threshs = np.array([0.4598701596260071, 0.5044034719467163, 0.2469554841518402])\n",
    "#full_preds[full_preds[:,1] > best_1]\n",
    "new_pred = np.zeros(len(full_preds))+3\n",
    "for i in range(len(full_preds)):\n",
    "    idx, max_prob = np.argmax(full_preds[i,:]), np.max(full_preds[i,:])\n",
    "    if max_prob > best_threshs[idx]:\n",
    "        new_pred[i] = int(idx)"
   ]
  },
  {
   "cell_type": "code",
   "execution_count": 72,
   "metadata": {},
   "outputs": [
    {
     "name": "stdout",
     "output_type": "stream",
     "text": [
      "New accuracy is 0.9280205655526992\n",
      "Fraction of stars 'unclassified': 0.3841229193341869\n"
     ]
    }
   ],
   "source": [
    "new_pred#, full_valid\n",
    "print(f\"New accuracy is {accuracy_score(new_pred[new_pred < 3], full_valid[new_pred < 3])}\")\n",
    "print(f\"Fraction of stars 'unclassified': {len(new_pred[new_pred == 3])/len(new_pred) * 100}\")"
   ]
  },
  {
   "cell_type": "code",
   "execution_count": 74,
   "metadata": {},
   "outputs": [
    {
     "name": "stdout",
     "output_type": "stream",
     "text": [
      "Best threshold for class 0: 0.07256215810775757 with f-score of 0.9183572488866898\n",
      "Best threshold for class 1: 0.007641256786882877 with f-score of 0.8975864318330072\n",
      "Best threshold for class 2: 0.005952170584350824 with f-score of 0.9911971830985915\n",
      "Average precision score, micro-averaged over all classes: 0.98\n"
     ]
    }
   ],
   "source": [
    "from sklearn.metrics import precision_recall_curve\n",
    "from sklearn.metrics import average_precision_score\n",
    "\n",
    "from sklearn.preprocessing import label_binarize\n",
    "# Use label_binarize to be multi-label like settings\n",
    "Y_test = label_binarize(full_valid, classes=[0, 1, 2])\n",
    "n_classes = Y_test.shape[1]\n",
    "\n",
    "# For each class\n",
    "precision = dict()\n",
    "recall = dict()\n",
    "average_precision = dict()\n",
    "thresholds = dict()\n",
    "fscore = dict()\n",
    "n_classes = 3\n",
    "for i in range(n_classes):\n",
    "    precision[i], recall[i], thresholds[i] = precision_recall_curve(Y_test[:, i],\n",
    "                                                        full_preds[:, i])\n",
    "    average_precision[i] = average_precision_score(Y_test[:, i], full_preds[:, i])\n",
    "    fscore[i] = (2 * precision[i] * recall[i]) / (precision[i] + recall[i])\n",
    "    ix = np.argmax(fscore)\n",
    "    best_threshold = thresholds[i][ix]\n",
    "    print(f\"Best threshold for class {i}: {best_threshold} with f-score of {np.max(fscore[i])}\")\n",
    "\n",
    "# A \"micro-average\": quantifying score on all classes jointly\n",
    "precision[\"micro\"], recall[\"micro\"], _ = precision_recall_curve(Y_test.ravel(),\n",
    "    full_preds.ravel())\n",
    "average_precision[\"micro\"] = average_precision_score(Y_test, full_preds,\n",
    "                                                     average=\"micro\")\n",
    "print('Average precision score, micro-averaged over all classes: {0:0.2f}'\n",
    "      .format(average_precision[\"micro\"]))"
   ]
  },
  {
   "cell_type": "code",
   "execution_count": 152,
   "metadata": {},
   "outputs": [
    {
     "data": {
      "text/plain": [
       "Text(0.5, 1.0, 'Average precision score, micro-averaged over all classes: AP=0.98')"
      ]
     },
     "execution_count": 152,
     "metadata": {},
     "output_type": "execute_result"
    },
    {
     "data": {
      "image/png": "[encoded data removed]",
      "text/plain": [
       "<Figure size 432x288 with 1 Axes>"
      ]
     },
     "metadata": {
      "needs_background": "light"
     },
     "output_type": "display_data"
    }
   ],
   "source": [
    "plt.step(recall['micro'], precision['micro'], where='post')\n",
    "\n",
    "plt.xlabel('Recall')\n",
    "plt.ylabel('Precision')\n",
    "plt.ylim([0.0, 1.05])\n",
    "plt.xlim([0.0, 1.0])\n",
    "plt.title(\n",
    "    'Average precision score, micro-averaged over all classes: AP={0:0.2f}'\n",
    "    .format(average_precision[\"micro\"]))"
   ]
  },
  {
   "cell_type": "code",
   "execution_count": 155,
   "metadata": {},
   "outputs": [
    {
     "data": {
      "image/png": "[encoded data removed]",
      "text/plain": [
       "<Figure size 432x288 with 1 Axes>"
      ]
     },
     "metadata": {
      "needs_background": "light"
     },
     "output_type": "display_data"
    }
   ],
   "source": [
    "from itertools import cycle\n",
    "# setup plot details\n",
    "#colors = cycle(['navy', 'turquoise', 'darkorange', 'cornflowerblue', 'teal'])\n",
    "colours = ['C0', 'C1', 'C2']\n",
    "class_names = ['RGB', 'CHeB', 'Noise']\n",
    "\n",
    "#plt.figure(figsize=(7, 8))\n",
    "f_scores = np.linspace(0.2, 0.8, num=4)\n",
    "lines = []\n",
    "labels = []\n",
    "#for f_score in f_scores:\n",
    "#    x = np.linspace(0.01, 1)\n",
    "#    y = f_score * x / (2 * x - f_score)\n",
    "#    l, = plt.plot(x[y >= 0], y[y >= 0], color='gray', alpha=0.2)\n",
    "#    plt.annotate('f1={0:0.1f}'.format(f_score), xy=(0.9, y[45] + 0.02))\n",
    "\n",
    "#lines.append(l)\n",
    "#labels.append('iso-f1 curves')\n",
    "#l, = plt.plot(recall[\"micro\"], precision[\"micro\"], color='gold', lw=2)\n",
    "#lines.append(l)\n",
    "#labels.append('micro-average Precision-recall (area = {0:0.2f})'\n",
    "#              ''.format(average_precision[\"micro\"]))\n",
    "for i in range(n_classes):\n",
    "    l, = plt.plot(recall[i], precision[i], color=colours[i], lw=2)\n",
    "    lines.append(l)\n",
    "    labels.append('Precision-recall: {0} (area = {1:0.2f})'\n",
    "                  ''.format(class_names[i], average_precision[i]))\n",
    "    idx = find_nearest(thresholds[i], 1/3)\n",
    "    plt.axvline(recall[i][idx], color=colours[i], linestyle='--')\n",
    "\n",
    "    \n",
    "#fig = plt.gcf()\n",
    "#fig.subplots_adjust(bottom=0.25)\n",
    "plt.xlim([0.0, 1.0])\n",
    "plt.ylim([0.0, 1.05])\n",
    "plt.xlabel(r'Recall', fontsize=18)\n",
    "plt.ylabel(r'Precision', fontsize=18)\n",
    "#plt.title('Extension of Precision-Recall curve to multi-class')\n",
    "plt.legend(lines, labels)#, loc=(0, -.38), prop=dict(size=14))\n",
    "\n",
    "\n",
    "plt.show()"
   ]
  },
  {
   "cell_type": "code",
   "execution_count": 138,
   "metadata": {},
   "outputs": [
    {
     "data": {
      "image/png": "[encoded data removed]",
      "text/plain": [
       "<Figure size 432x288 with 1 Axes>"
      ]
     },
     "metadata": {
      "needs_background": "light"
     },
     "output_type": "display_data"
    },
    {
     "data": {
      "image/png": "[encoded data removed]",
      "text/plain": [
       "<Figure size 432x288 with 1 Axes>"
      ]
     },
     "metadata": {
      "needs_background": "light"
     },
     "output_type": "display_data"
    },
    {
     "data": {
      "image/png": "[encoded data removed]",
      "text/plain": [
       "<Figure size 432x288 with 1 Axes>"
      ]
     },
     "metadata": {
      "needs_background": "light"
     },
     "output_type": "display_data"
    },
    {
     "data": {
      "image/png": "[encoded data removed]",
      "text/plain": [
       "<Figure size 432x288 with 1 Axes>"
      ]
     },
     "metadata": {
      "needs_background": "light"
     },
     "output_type": "display_data"
    }
   ],
   "source": [
    "class_names = ['RGB', 'CHeB', 'Noise']\n",
    "for i in range(len(class_names)):\n",
    "    plt.plot(thresholds, pr[:,i], label=class_names[i])\n",
    "plt.step(thresholds, nsamples)\n",
    "plt.axvline(1/3, color='r', linestyle='--', label=r'$1/C$ decision threshold')\n",
    "plt.xlabel(r'Decision Threshold')\n",
    "plt.ylabel('Precision')\n",
    "plt.xlim(0, 1)\n",
    "plt.ylim(0, 1.05)\n",
    "plt.legend(loc='best')\n",
    "#plt.savefig('Precision_'+str(NDAYS)+'.pdf', bbox_inches='tight')\n",
    "plt.show()\n",
    "for i in range(len(class_names)):\n",
    "    plt.plot(thresholds, rc[:,i], label=class_names[i])\n",
    "plt.axvline(1/3, color='r', linestyle='--', label=r'$1/C$ decision threshold')\n",
    "plt.xlabel(r'Decision Threshold')\n",
    "plt.ylabel('Recall')\n",
    "plt.xlim(0, 1)\n",
    "plt.ylim(0, 1.05)\n",
    "plt.legend(loc='best')\n",
    "#plt.savefig('Recall_'+str(NDAYS)+'.pdf', bbox_inches='tight')\n",
    "plt.show()\n",
    "colour = ['C0', 'C1', 'C2']\n",
    "for i in range(len(class_names)):\n",
    "    plt.plot(pr[:,i], rc[:,i], label=class_names[i])\n",
    "    idx = find_nearest(thresholds, 1/3)\n",
    "    plt.axvline(pr[:,i][idx], color=colour[i], linestyle='--')\n",
    "plt.xlabel(r'Precision')\n",
    "plt.ylabel('Recall')\n",
    "plt.xlim(0.6, 1)\n",
    "plt.ylim(0.7, 1)\n",
    "plt.legend(loc='best')\n",
    "#plt.savefig('Precision_Recall_'+str(NDAYS)+'.pdf', bbox_inches='tight')\n",
    "plt.show()\n",
    "for i in range(len(class_names)):\n",
    "    plt.plot(rc[:,i], pr[:,i], label=class_names[i])\n",
    "    idx = find_nearest(thresholds, 1/3)\n",
    "#    plt.axvline(pr[:-5,i][idx], color=colour[i], linestyle='--')\n",
    "plt.ylabel(r'Precision')\n",
    "plt.xlabel('Recall')\n",
    "plt.xlim(0.6, 1)\n",
    "plt.ylim(0.7, 1)\n",
    "plt.legend(loc='best')\n",
    "#plt.savefig('Precision_Recall_'+str(NDAYS)+'.pdf', bbox_inches='tight')\n",
    "plt.show()"
   ]
  },
  {
   "cell_type": "code",
   "execution_count": null,
   "metadata": {},
   "outputs": [],
   "source": []
  }
 ],
 "metadata": {
  "kernelspec": {
   "display_name": "Python 3",
   "language": "python",
   "name": "python3"
  },
  "language_info": {
   "codemirror_mode": {
    "name": "ipython",
    "version": 3
   },
   "file_extension": ".py",
   "mimetype": "text/x-python",
   "name": "python",
   "nbconvert_exporter": "python",
   "pygments_lexer": "ipython3",
   "version": "3.7.6"
  }
 },
 "nbformat": 4,
 "nbformat_minor": 4
}
